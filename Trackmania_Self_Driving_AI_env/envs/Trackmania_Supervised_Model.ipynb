{
 "cells": [
  {
   "cell_type": "code",
   "execution_count": 6,
   "metadata": {},
   "outputs": [],
   "source": [
    "import tensorflow as tf \n",
    "from keras.layers.core import Dense, Dropout, Activation, Flatten\n",
    "from keras.layers.convolutional import Conv2D, MaxPooling2D, SeparableConv2D\n",
    "from keras.regularizers import l2\n",
    "from keras.optimizers import SGD, RMSprop\n",
    "from keras.utils import to_categorical\n",
    "from keras.layers import BatchNormalization, concatenate\n",
    "from keras.utils.vis_utils import plot_model\n",
    "from keras.layers import Input, GlobalAveragePooling2D\n",
    "from keras import models\n",
    "from keras.models import Model"
   ]
  },
  {
   "cell_type": "code",
   "execution_count": 3,
   "metadata": {},
   "outputs": [],
   "source": [
    "import pandas as pd\n",
    "import numpy as np\n",
    "from sklearn.model_selection import train_test_split\n",
    "from tensorflow.keras.preprocessing.image import ImageDataGenerator"
   ]
  },
  {
   "cell_type": "code",
   "execution_count": 4,
   "metadata": {},
   "outputs": [
    {
     "name": "stdout",
     "output_type": "stream",
     "text": [
      "Found 38881 non-validated image filenames.\n",
      "Found 9721 non-validated image filenames.\n"
     ]
    },
    {
     "data": {
      "text/html": [
       "<div>\n",
       "<style scoped>\n",
       "    .dataframe tbody tr th:only-of-type {\n",
       "        vertical-align: middle;\n",
       "    }\n",
       "\n",
       "    .dataframe tbody tr th {\n",
       "        vertical-align: top;\n",
       "    }\n",
       "\n",
       "    .dataframe thead th {\n",
       "        text-align: right;\n",
       "    }\n",
       "</style>\n",
       "<table border=\"1\" class=\"dataframe\">\n",
       "  <thead>\n",
       "    <tr style=\"text-align: right;\">\n",
       "      <th></th>\n",
       "      <th>img</th>\n",
       "      <th>left_15</th>\n",
       "      <th>left_30</th>\n",
       "      <th>left_45</th>\n",
       "      <th>left_60</th>\n",
       "      <th>left_75</th>\n",
       "      <th>right_15</th>\n",
       "      <th>right_30</th>\n",
       "      <th>right_45</th>\n",
       "      <th>right_60</th>\n",
       "      <th>right_75</th>\n",
       "      <th>speed</th>\n",
       "      <th>label</th>\n",
       "      <th>steer</th>\n",
       "    </tr>\n",
       "  </thead>\n",
       "  <tbody>\n",
       "    <tr>\n",
       "      <th>1</th>\n",
       "      <td>img_data/img_A01_arian_10.jpg</td>\n",
       "      <td>255</td>\n",
       "      <td>277</td>\n",
       "      <td>201</td>\n",
       "      <td>126</td>\n",
       "      <td>82</td>\n",
       "      <td>131</td>\n",
       "      <td>277</td>\n",
       "      <td>196</td>\n",
       "      <td>126</td>\n",
       "      <td>64</td>\n",
       "      <td>0</td>\n",
       "      <td>0</td>\n",
       "      <td>0.152100</td>\n",
       "    </tr>\n",
       "    <tr>\n",
       "      <th>2</th>\n",
       "      <td>img_data/img_A01_arian_20.jpg</td>\n",
       "      <td>255</td>\n",
       "      <td>277</td>\n",
       "      <td>201</td>\n",
       "      <td>126</td>\n",
       "      <td>82</td>\n",
       "      <td>131</td>\n",
       "      <td>277</td>\n",
       "      <td>196</td>\n",
       "      <td>126</td>\n",
       "      <td>64</td>\n",
       "      <td>0</td>\n",
       "      <td>0</td>\n",
       "      <td>0.152100</td>\n",
       "    </tr>\n",
       "    <tr>\n",
       "      <th>3</th>\n",
       "      <td>img_data/img_A01_arian_30.jpg</td>\n",
       "      <td>255</td>\n",
       "      <td>10000</td>\n",
       "      <td>201</td>\n",
       "      <td>126</td>\n",
       "      <td>84</td>\n",
       "      <td>131</td>\n",
       "      <td>113</td>\n",
       "      <td>190</td>\n",
       "      <td>126</td>\n",
       "      <td>64</td>\n",
       "      <td>1</td>\n",
       "      <td>0</td>\n",
       "      <td>0.152100</td>\n",
       "    </tr>\n",
       "    <tr>\n",
       "      <th>4</th>\n",
       "      <td>img_data/img_A01_arian_40.jpg</td>\n",
       "      <td>257</td>\n",
       "      <td>291</td>\n",
       "      <td>198</td>\n",
       "      <td>126</td>\n",
       "      <td>84</td>\n",
       "      <td>123</td>\n",
       "      <td>113</td>\n",
       "      <td>197</td>\n",
       "      <td>126</td>\n",
       "      <td>64</td>\n",
       "      <td>1</td>\n",
       "      <td>0</td>\n",
       "      <td>0.168411</td>\n",
       "    </tr>\n",
       "    <tr>\n",
       "      <th>5</th>\n",
       "      <td>img_data/img_A01_arian_50.jpg</td>\n",
       "      <td>258</td>\n",
       "      <td>280</td>\n",
       "      <td>198</td>\n",
       "      <td>126</td>\n",
       "      <td>84</td>\n",
       "      <td>125</td>\n",
       "      <td>114</td>\n",
       "      <td>193</td>\n",
       "      <td>126</td>\n",
       "      <td>64</td>\n",
       "      <td>2</td>\n",
       "      <td>0</td>\n",
       "      <td>0.168411</td>\n",
       "    </tr>\n",
       "  </tbody>\n",
       "</table>\n",
       "</div>"
      ],
      "text/plain": [
       "                             img  left_15  left_30  left_45  left_60  left_75   \n",
       "1  img_data/img_A01_arian_10.jpg      255      277      201      126       82  \\\n",
       "2  img_data/img_A01_arian_20.jpg      255      277      201      126       82   \n",
       "3  img_data/img_A01_arian_30.jpg      255    10000      201      126       84   \n",
       "4  img_data/img_A01_arian_40.jpg      257      291      198      126       84   \n",
       "5  img_data/img_A01_arian_50.jpg      258      280      198      126       84   \n",
       "\n",
       "   right_15  right_30  right_45  right_60  right_75  speed label     steer  \n",
       "1       131       277       196       126        64      0     0  0.152100  \n",
       "2       131       277       196       126        64      0     0  0.152100  \n",
       "3       131       113       190       126        64      1     0  0.152100  \n",
       "4       123       113       197       126        64      1     0  0.168411  \n",
       "5       125       114       193       126        64      2     0  0.168411  "
      ]
     },
     "execution_count": 4,
     "metadata": {},
     "output_type": "execute_result"
    }
   ],
   "source": [
    "data = pd.read_csv(\"Train_data.csv\")\n",
    "data['img'] = data['img'].apply(lambda x : x[2:])\n",
    "data['label'] = data['label'].astype('category')\n",
    "\n",
    "data = data[data.label != 2]\n",
    "\n",
    "data['steer'] = data['steer'].apply(lambda x : np.interp(x, [-65536, 65536], [-1, 1]))\n",
    "train_df, val_df = train_test_split(data, test_size=0.2, random_state=42)\n",
    "\n",
    "image_datagen = ImageDataGenerator(rescale=1./255)\n",
    "\n",
    "train_imgs = image_datagen.flow_from_dataframe(\n",
    "    dataframe=train_df,\n",
    "    directory='C:/Users/Mohamed Ali/Documents/Semester_6/Artificial_Intelligence/Project/Trackmania_Self_Driving_AI_env',\n",
    "    x_col='img',\n",
    "    y_col=['label', 'steer'],\n",
    "    target_size=(224, 224),\n",
    "    batch_size=32,\n",
    "    class_mode='multi_output',\n",
    "    validate_filenames=False\n",
    ")\n",
    "val_imgs = image_datagen.flow_from_dataframe(\n",
    "    dataframe=val_df,\n",
    "    directory='C:/Users/Mohamed Ali/Documents/Semester_6/Artificial_Intelligence/Project/Trackmania_Self_Driving_AI_env',\n",
    "    x_col='img',\n",
    "    y_col=['label', 'steer'],\n",
    "    target_size=(224, 224),\n",
    "    batch_size=32,\n",
    "    class_mode='multi_output',\n",
    "    validate_filenames=False\n",
    ")\n",
    "data.head()"
   ]
  },
  {
   "cell_type": "code",
   "execution_count": 5,
   "metadata": {},
   "outputs": [],
   "source": [
    "input_img = Input(shape=(224, 224, 3), name='img_input')\n",
    "### 1st layer\n",
    "layer_1 = Conv2D(10, (1,1), padding='same', activation='relu')(input_img)\n",
    "layer_1 = Conv2D(10, (3,3), padding='same', activation='relu')(layer_1)\n",
    "\n",
    "layer_2 = Conv2D(10, (1,1), padding='same', activation='relu')(input_img)\n",
    "layer_2 = Conv2D(10, (5,5), padding='same', activation='relu')(layer_2)\n",
    "\n",
    "layer_3 = MaxPooling2D((3,3), strides=(1,1), padding='same')(input_img)\n",
    "layer_3 = Conv2D(10, (1,1), padding='same', activation='relu')(layer_3)\n",
    "\n",
    "mid_1 = concatenate([layer_1, layer_2, layer_3], axis = 3)\n",
    "merged = Dropout(0.5)(mid_1)"
   ]
  },
  {
   "cell_type": "code",
   "execution_count": 8,
   "metadata": {},
   "outputs": [],
   "source": [
    "flat_1 = Flatten()(merged)\n",
    "\n",
    "classification_output = Dense(1, activation='sigmoid', name='classification_output')(flat_1)\n",
    "Dense_1 = Dense(16, activation=tf.keras.layers.LeakyReLU(alpha=0.01))(flat_1)\n",
    "linear_output = Dense(1, activation='linear', name='linear_output')(Dense_1)\n",
    "\n",
    "model = Model(inputs=[input_img], outputs=[classification_output, linear_output])\n"
   ]
  },
  {
   "cell_type": "code",
   "execution_count": 9,
   "metadata": {},
   "outputs": [],
   "source": [
    "model.compile(optimizer='adam', loss={'classification_output': 'binary_crossentropy', 'linear_output': 'mse'}, metrics=['accuracy'])"
   ]
  },
  {
   "cell_type": "code",
   "execution_count": 10,
   "metadata": {},
   "outputs": [
    {
     "name": "stdout",
     "output_type": "stream",
     "text": [
      "Model: \"model\"\n",
      "__________________________________________________________________________________________________\n",
      " Layer (type)                   Output Shape         Param #     Connected to                     \n",
      "==================================================================================================\n",
      " img_input (InputLayer)         [(None, 224, 224, 3  0           []                               \n",
      "                                )]                                                                \n",
      "                                                                                                  \n",
      " conv2d (Conv2D)                (None, 224, 224, 10  40          ['img_input[0][0]']              \n",
      "                                )                                                                 \n",
      "                                                                                                  \n",
      " conv2d_2 (Conv2D)              (None, 224, 224, 10  40          ['img_input[0][0]']              \n",
      "                                )                                                                 \n",
      "                                                                                                  \n",
      " max_pooling2d (MaxPooling2D)   (None, 224, 224, 3)  0           ['img_input[0][0]']              \n",
      "                                                                                                  \n",
      " conv2d_1 (Conv2D)              (None, 224, 224, 10  910         ['conv2d[0][0]']                 \n",
      "                                )                                                                 \n",
      "                                                                                                  \n",
      " conv2d_3 (Conv2D)              (None, 224, 224, 10  2510        ['conv2d_2[0][0]']               \n",
      "                                )                                                                 \n",
      "                                                                                                  \n",
      " conv2d_4 (Conv2D)              (None, 224, 224, 10  40          ['max_pooling2d[0][0]']          \n",
      "                                )                                                                 \n",
      "                                                                                                  \n",
      " concatenate (Concatenate)      (None, 224, 224, 30  0           ['conv2d_1[0][0]',               \n",
      "                                )                                 'conv2d_3[0][0]',               \n",
      "                                                                  'conv2d_4[0][0]']               \n",
      "                                                                                                  \n",
      " dropout (Dropout)              (None, 224, 224, 30  0           ['concatenate[0][0]']            \n",
      "                                )                                                                 \n",
      "                                                                                                  \n",
      " flatten_1 (Flatten)            (None, 1505280)      0           ['dropout[0][0]']                \n",
      "                                                                                                  \n",
      " dense (Dense)                  (None, 16)           24084496    ['flatten_1[0][0]']              \n",
      "                                                                                                  \n",
      " classification_output (Dense)  (None, 1)            1505281     ['flatten_1[0][0]']              \n",
      "                                                                                                  \n",
      " linear_output (Dense)          (None, 1)            17          ['dense[0][0]']                  \n",
      "                                                                                                  \n",
      "==================================================================================================\n",
      "Total params: 25,593,334\n",
      "Trainable params: 25,593,334\n",
      "Non-trainable params: 0\n",
      "__________________________________________________________________________________________________\n"
     ]
    }
   ],
   "source": [
    "model.summary()"
   ]
  },
  {
   "cell_type": "code",
   "execution_count": 11,
   "metadata": {},
   "outputs": [
    {
     "data": {
      "image/png": "[encoded data removed]",
      "text/plain": [
       "<IPython.core.display.Image object>"
      ]
     },
     "execution_count": 11,
     "metadata": {},
     "output_type": "execute_result"
    }
   ],
   "source": [
    "tf.keras.utils.plot_model(model)"
   ]
  },
  {
   "cell_type": "code",
   "execution_count": 12,
   "metadata": {},
   "outputs": [],
   "source": [
    "from tensorflow.keras.callbacks import EarlyStopping, ModelCheckpoint\n",
    "\n",
    "early_stop = EarlyStopping(monitor='val_loss', patience=3)\n",
    "checkpoint = ModelCheckpoint('inception_model.h5', monitor='val_accuracy', save_best_only=True, save_freq=\"epoch\")"
   ]
  },
  {
   "cell_type": "code",
   "execution_count": 13,
   "metadata": {},
   "outputs": [
    {
     "name": "stdout",
     "output_type": "stream",
     "text": [
      "Epoch 1/50\n",
      "1216/1216 [==============================] - ETA: 0s - loss: 28.8937 - classification_output_loss: 0.3694 - linear_output_loss: 28.5243 - classification_output_accuracy: 0.9873 - linear_output_accuracy: 0.3624WARNING:tensorflow:Can save best model only with val_accuracy available, skipping.\n",
      "1216/1216 [==============================] - 2788s 2s/step - loss: 28.8937 - classification_output_loss: 0.3694 - linear_output_loss: 28.5243 - classification_output_accuracy: 0.9873 - linear_output_accuracy: 0.3624 - val_loss: 0.4392 - val_classification_output_loss: 0.2716 - val_linear_output_loss: 0.1676 - val_classification_output_accuracy: 0.9933 - val_linear_output_accuracy: 0.4031\n",
      "Epoch 2/50\n",
      "1216/1216 [==============================] - ETA: 0s - loss: 0.3077 - classification_output_loss: 0.1540 - linear_output_loss: 0.1538 - classification_output_accuracy: 0.9943 - linear_output_accuracy: 0.4112WARNING:tensorflow:Can save best model only with val_accuracy available, skipping.\n",
      "1216/1216 [==============================] - 2808s 2s/step - loss: 0.3077 - classification_output_loss: 0.1540 - linear_output_loss: 0.1538 - classification_output_accuracy: 0.9943 - linear_output_accuracy: 0.4112 - val_loss: 0.3677 - val_classification_output_loss: 0.2519 - val_linear_output_loss: 0.1158 - val_classification_output_accuracy: 0.9942 - val_linear_output_accuracy: 0.4314\n",
      "Epoch 3/50\n",
      "1216/1216 [==============================] - ETA: 0s - loss: 0.2442 - classification_output_loss: 0.1364 - linear_output_loss: 0.1078 - classification_output_accuracy: 0.9964 - linear_output_accuracy: 0.4343WARNING:tensorflow:Can save best model only with val_accuracy available, skipping.\n",
      "1216/1216 [==============================] - 3045s 3s/step - loss: 0.2442 - classification_output_loss: 0.1364 - linear_output_loss: 0.1078 - classification_output_accuracy: 0.9964 - linear_output_accuracy: 0.4343 - val_loss: 0.1803 - val_classification_output_loss: 0.0920 - val_linear_output_loss: 0.0884 - val_classification_output_accuracy: 0.9964 - val_linear_output_accuracy: 0.4389\n",
      "Epoch 4/50\n",
      "1216/1216 [==============================] - ETA: 0s - loss: 0.1729 - classification_output_loss: 0.0920 - linear_output_loss: 0.0809 - classification_output_accuracy: 0.9973 - linear_output_accuracy: 0.4508WARNING:tensorflow:Can save best model only with val_accuracy available, skipping.\n",
      "1216/1216 [==============================] - 2812s 2s/step - loss: 0.1729 - classification_output_loss: 0.0920 - linear_output_loss: 0.0809 - classification_output_accuracy: 0.9973 - linear_output_accuracy: 0.4508 - val_loss: 0.2319 - val_classification_output_loss: 0.1613 - val_linear_output_loss: 0.0706 - val_classification_output_accuracy: 0.9961 - val_linear_output_accuracy: 0.4468\n",
      "Epoch 5/50\n",
      "1216/1216 [==============================] - ETA: 0s - loss: 0.1443 - classification_output_loss: 0.0797 - linear_output_loss: 0.0646 - classification_output_accuracy: 0.9978 - linear_output_accuracy: 0.4604WARNING:tensorflow:Can save best model only with val_accuracy available, skipping.\n",
      "1216/1216 [==============================] - 2697s 2s/step - loss: 0.1443 - classification_output_loss: 0.0797 - linear_output_loss: 0.0646 - classification_output_accuracy: 0.9978 - linear_output_accuracy: 0.4604 - val_loss: 0.2167 - val_classification_output_loss: 0.1512 - val_linear_output_loss: 0.0655 - val_classification_output_accuracy: 0.9976 - val_linear_output_accuracy: 0.4566\n",
      "Epoch 6/50\n",
      "1216/1216 [==============================] - ETA: 0s - loss: 0.1544 - classification_output_loss: 0.0980 - linear_output_loss: 0.0563 - classification_output_accuracy: 0.9974 - linear_output_accuracy: 0.4645WARNING:tensorflow:Can save best model only with val_accuracy available, skipping.\n",
      "1216/1216 [==============================] - 2928s 2s/step - loss: 0.1544 - classification_output_loss: 0.0980 - linear_output_loss: 0.0563 - classification_output_accuracy: 0.9974 - linear_output_accuracy: 0.4645 - val_loss: 0.1627 - val_classification_output_loss: 0.1060 - val_linear_output_loss: 0.0567 - val_classification_output_accuracy: 0.9984 - val_linear_output_accuracy: 0.4590\n",
      "Epoch 7/50\n",
      "1216/1216 [==============================] - ETA: 0s - loss: 0.1004 - classification_output_loss: 0.0492 - linear_output_loss: 0.0512 - classification_output_accuracy: 0.9986 - linear_output_accuracy: 0.4678WARNING:tensorflow:Can save best model only with val_accuracy available, skipping.\n",
      "1216/1216 [==============================] - 2635s 2s/step - loss: 0.1004 - classification_output_loss: 0.0492 - linear_output_loss: 0.0512 - classification_output_accuracy: 0.9986 - linear_output_accuracy: 0.4678 - val_loss: 0.1583 - val_classification_output_loss: 0.0962 - val_linear_output_loss: 0.0621 - val_classification_output_accuracy: 0.9967 - val_linear_output_accuracy: 0.4619\n",
      "Epoch 8/50\n",
      "1216/1216 [==============================] - ETA: 0s - loss: 0.1247 - classification_output_loss: 0.0794 - linear_output_loss: 0.0453 - classification_output_accuracy: 0.9983 - linear_output_accuracy: 0.4706WARNING:tensorflow:Can save best model only with val_accuracy available, skipping.\n",
      "1216/1216 [==============================] - 2644s 2s/step - loss: 0.1247 - classification_output_loss: 0.0794 - linear_output_loss: 0.0453 - classification_output_accuracy: 0.9983 - linear_output_accuracy: 0.4706 - val_loss: 0.2162 - val_classification_output_loss: 0.1660 - val_linear_output_loss: 0.0503 - val_classification_output_accuracy: 0.9940 - val_linear_output_accuracy: 0.4628\n",
      "Epoch 9/50\n",
      "1216/1216 [==============================] - ETA: 0s - loss: 0.0881 - classification_output_loss: 0.0483 - linear_output_loss: 0.0398 - classification_output_accuracy: 0.9986 - linear_output_accuracy: 0.4733WARNING:tensorflow:Can save best model only with val_accuracy available, skipping.\n",
      "1216/1216 [==============================] - 2466s 2s/step - loss: 0.0881 - classification_output_loss: 0.0483 - linear_output_loss: 0.0398 - classification_output_accuracy: 0.9986 - linear_output_accuracy: 0.4733 - val_loss: 0.1680 - val_classification_output_loss: 0.1208 - val_linear_output_loss: 0.0472 - val_classification_output_accuracy: 0.9980 - val_linear_output_accuracy: 0.4629\n",
      "Epoch 10/50\n",
      "1216/1216 [==============================] - ETA: 0s - loss: 0.0719 - classification_output_loss: 0.0374 - linear_output_loss: 0.0345 - classification_output_accuracy: 0.9989 - linear_output_accuracy: 0.4752WARNING:tensorflow:Can save best model only with val_accuracy available, skipping.\n",
      "1216/1216 [==============================] - 2366s 2s/step - loss: 0.0719 - classification_output_loss: 0.0374 - linear_output_loss: 0.0345 - classification_output_accuracy: 0.9989 - linear_output_accuracy: 0.4752 - val_loss: 0.1462 - val_classification_output_loss: 0.0992 - val_linear_output_loss: 0.0469 - val_classification_output_accuracy: 0.9973 - val_linear_output_accuracy: 0.4625\n",
      "Epoch 11/50\n",
      "1216/1216 [==============================] - ETA: 0s - loss: 0.0625 - classification_output_loss: 0.0309 - linear_output_loss: 0.0317 - classification_output_accuracy: 0.9991 - linear_output_accuracy: 0.4759WARNING:tensorflow:Can save best model only with val_accuracy available, skipping.\n",
      "1216/1216 [==============================] - 2941s 2s/step - loss: 0.0625 - classification_output_loss: 0.0309 - linear_output_loss: 0.0317 - classification_output_accuracy: 0.9991 - linear_output_accuracy: 0.4759 - val_loss: 0.0940 - val_classification_output_loss: 0.0493 - val_linear_output_loss: 0.0447 - val_classification_output_accuracy: 0.9986 - val_linear_output_accuracy: 0.4643\n",
      "Epoch 12/50\n",
      "1216/1216 [==============================] - ETA: 0s - loss: 0.0478 - classification_output_loss: 0.0183 - linear_output_loss: 0.0295 - classification_output_accuracy: 0.9993 - linear_output_accuracy: 0.4768WARNING:tensorflow:Can save best model only with val_accuracy available, skipping.\n",
      "1216/1216 [==============================] - 2698s 2s/step - loss: 0.0478 - classification_output_loss: 0.0183 - linear_output_loss: 0.0295 - classification_output_accuracy: 0.9993 - linear_output_accuracy: 0.4768 - val_loss: 0.1389 - val_classification_output_loss: 0.0954 - val_linear_output_loss: 0.0435 - val_classification_output_accuracy: 0.9978 - val_linear_output_accuracy: 0.4648\n",
      "Epoch 13/50\n",
      "1216/1216 [==============================] - ETA: 0s - loss: 0.0467 - classification_output_loss: 0.0190 - linear_output_loss: 0.0277 - classification_output_accuracy: 0.9992 - linear_output_accuracy: 0.4776WARNING:tensorflow:Can save best model only with val_accuracy available, skipping.\n",
      "1216/1216 [==============================] - 2676s 2s/step - loss: 0.0467 - classification_output_loss: 0.0190 - linear_output_loss: 0.0277 - classification_output_accuracy: 0.9992 - linear_output_accuracy: 0.4776 - val_loss: 0.1465 - val_classification_output_loss: 0.1041 - val_linear_output_loss: 0.0423 - val_classification_output_accuracy: 0.9974 - val_linear_output_accuracy: 0.4671\n",
      "Epoch 14/50\n",
      "1216/1216 [==============================] - ETA: 0s - loss: 0.0470 - classification_output_loss: 0.0201 - linear_output_loss: 0.0269 - classification_output_accuracy: 0.9990 - linear_output_accuracy: 0.4778WARNING:tensorflow:Can save best model only with val_accuracy available, skipping.\n",
      "1216/1216 [==============================] - 2798s 2s/step - loss: 0.0470 - classification_output_loss: 0.0201 - linear_output_loss: 0.0269 - classification_output_accuracy: 0.9990 - linear_output_accuracy: 0.4778 - val_loss: 0.0842 - val_classification_output_loss: 0.0401 - val_linear_output_loss: 0.0442 - val_classification_output_accuracy: 0.9981 - val_linear_output_accuracy: 0.4693\n",
      "Epoch 15/50\n",
      "1216/1216 [==============================] - ETA: 0s - loss: 0.0429 - classification_output_loss: 0.0182 - linear_output_loss: 0.0247 - classification_output_accuracy: 0.9992 - linear_output_accuracy: 0.4782WARNING:tensorflow:Can save best model only with val_accuracy available, skipping.\n",
      "1216/1216 [==============================] - 2693s 2s/step - loss: 0.0429 - classification_output_loss: 0.0182 - linear_output_loss: 0.0247 - classification_output_accuracy: 0.9992 - linear_output_accuracy: 0.4782 - val_loss: 0.0765 - val_classification_output_loss: 0.0349 - val_linear_output_loss: 0.0415 - val_classification_output_accuracy: 0.9976 - val_linear_output_accuracy: 0.4664\n",
      "Epoch 16/50\n",
      "1216/1216 [==============================] - ETA: 0s - loss: 0.0416 - classification_output_loss: 0.0155 - linear_output_loss: 0.0261 - classification_output_accuracy: 0.9992 - linear_output_accuracy: 0.4776WARNING:tensorflow:Can save best model only with val_accuracy available, skipping.\n",
      "1216/1216 [==============================] - 2704s 2s/step - loss: 0.0416 - classification_output_loss: 0.0155 - linear_output_loss: 0.0261 - classification_output_accuracy: 0.9992 - linear_output_accuracy: 0.4776 - val_loss: 0.0742 - val_classification_output_loss: 0.0332 - val_linear_output_loss: 0.0409 - val_classification_output_accuracy: 0.9980 - val_linear_output_accuracy: 0.4692\n",
      "Epoch 17/50\n",
      "1216/1216 [==============================] - ETA: 0s - loss: 0.0379 - classification_output_loss: 0.0152 - linear_output_loss: 0.0227 - classification_output_accuracy: 0.9993 - linear_output_accuracy: 0.4788WARNING:tensorflow:Can save best model only with val_accuracy available, skipping.\n",
      "1216/1216 [==============================] - 2810s 2s/step - loss: 0.0379 - classification_output_loss: 0.0152 - linear_output_loss: 0.0227 - classification_output_accuracy: 0.9993 - linear_output_accuracy: 0.4788 - val_loss: 0.0880 - val_classification_output_loss: 0.0465 - val_linear_output_loss: 0.0415 - val_classification_output_accuracy: 0.9980 - val_linear_output_accuracy: 0.4668\n",
      "Epoch 18/50\n",
      "1216/1216 [==============================] - ETA: 0s - loss: 0.0397 - classification_output_loss: 0.0175 - linear_output_loss: 0.0223 - classification_output_accuracy: 0.9992 - linear_output_accuracy: 0.4788WARNING:tensorflow:Can save best model only with val_accuracy available, skipping.\n",
      "1216/1216 [==============================] - 2725s 2s/step - loss: 0.0397 - classification_output_loss: 0.0175 - linear_output_loss: 0.0223 - classification_output_accuracy: 0.9992 - linear_output_accuracy: 0.4788 - val_loss: 0.0807 - val_classification_output_loss: 0.0367 - val_linear_output_loss: 0.0440 - val_classification_output_accuracy: 0.9969 - val_linear_output_accuracy: 0.4679\n",
      "Epoch 19/50\n",
      "1216/1216 [==============================] - ETA: 0s - loss: 0.0351 - classification_output_loss: 0.0133 - linear_output_loss: 0.0217 - classification_output_accuracy: 0.9993 - linear_output_accuracy: 0.4788WARNING:tensorflow:Can save best model only with val_accuracy available, skipping.\n",
      "1216/1216 [==============================] - 2671s 2s/step - loss: 0.0351 - classification_output_loss: 0.0133 - linear_output_loss: 0.0217 - classification_output_accuracy: 0.9993 - linear_output_accuracy: 0.4788 - val_loss: 0.0753 - val_classification_output_loss: 0.0386 - val_linear_output_loss: 0.0366 - val_classification_output_accuracy: 0.9985 - val_linear_output_accuracy: 0.4701\n"
     ]
    },
    {
     "data": {
      "text/plain": [
       "<keras.callbacks.History at 0x1f87a224e50>"
      ]
     },
     "execution_count": 13,
     "metadata": {},
     "output_type": "execute_result"
    }
   ],
   "source": [
    "model.fit(train_imgs,\n",
    "          epochs=50,\n",
    "          batch_size=32,\n",
    "          validation_data=val_imgs,\n",
    "          callbacks=[early_stop, checkpoint])"
   ]
  },
  {
   "cell_type": "code",
   "execution_count": 17,
   "metadata": {},
   "outputs": [],
   "source": [
    "model.save_weights('./model_weights.h5')"
   ]
  },
  {
   "cell_type": "code",
   "execution_count": null,
   "metadata": {},
   "outputs": [],
   "source": []
  }
 ],
 "metadata": {
  "kernelspec": {
   "display_name": "Python 3 (ipykernel)",
   "language": "python",
   "name": "python3"
  },
  "language_info": {
   "codemirror_mode": {
    "name": "ipython",
    "version": 3
   },
   "file_extension": ".py",
   "mimetype": "text/x-python",
   "name": "python",
   "nbconvert_exporter": "python",
   "pygments_lexer": "ipython3",
   "version": "3.11.3"
  }
 },
 "nbformat": 4,
 "nbformat_minor": 2
}
