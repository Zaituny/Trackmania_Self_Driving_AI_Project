{
 "cells": [
  {
   "cell_type": "code",
   "execution_count": 1,
   "metadata": {},
   "outputs": [],
   "source": [
    "import tensorflow as tf \n",
    "from keras.layers.core import Dense, Dropout, Activation, Flatten\n",
    "from keras.layers.convolutional import Conv2D, MaxPooling2D, SeparableConv2D\n",
    "from keras.regularizers import l2\n",
    "from keras.optimizers import SGD, RMSprop\n",
    "from keras.utils import to_categorical\n",
    "from keras.layers import BatchNormalization, concatenate\n",
    "from keras.utils.vis_utils import plot_model\n",
    "from keras.layers import Input, GlobalAveragePooling2D\n",
    "from keras import models\n",
    "from keras.models import Model"
   ]
  },
  {
   "cell_type": "code",
   "execution_count": 2,
   "metadata": {},
   "outputs": [],
   "source": [
    "import pandas as pd\n",
    "import numpy as np\n",
    "from sklearn.model_selection import train_test_split\n",
    "from tensorflow.keras.preprocessing.image import ImageDataGenerator"
   ]
  },
  {
   "cell_type": "code",
   "execution_count": 15,
   "metadata": {},
   "outputs": [
    {
     "name": "stdout",
     "output_type": "stream",
     "text": [
      "Found 32563 non-validated image filenames.\n",
      "Found 16039 non-validated image filenames.\n"
     ]
    },
    {
     "data": {
      "text/html": [
       "<div>\n",
       "<style scoped>\n",
       "    .dataframe tbody tr th:only-of-type {\n",
       "        vertical-align: middle;\n",
       "    }\n",
       "\n",
       "    .dataframe tbody tr th {\n",
       "        vertical-align: top;\n",
       "    }\n",
       "\n",
       "    .dataframe thead th {\n",
       "        text-align: right;\n",
       "    }\n",
       "</style>\n",
       "<table border=\"1\" class=\"dataframe\">\n",
       "  <thead>\n",
       "    <tr style=\"text-align: right;\">\n",
       "      <th></th>\n",
       "      <th>img</th>\n",
       "      <th>left_15</th>\n",
       "      <th>left_30</th>\n",
       "      <th>left_45</th>\n",
       "      <th>left_60</th>\n",
       "      <th>left_75</th>\n",
       "      <th>right_15</th>\n",
       "      <th>right_30</th>\n",
       "      <th>right_45</th>\n",
       "      <th>right_60</th>\n",
       "      <th>right_75</th>\n",
       "      <th>speed</th>\n",
       "      <th>label</th>\n",
       "      <th>steer</th>\n",
       "    </tr>\n",
       "  </thead>\n",
       "  <tbody>\n",
       "    <tr>\n",
       "      <th>1</th>\n",
       "      <td>img_data/img_A01_arian_10.jpg</td>\n",
       "      <td>255</td>\n",
       "      <td>277</td>\n",
       "      <td>201</td>\n",
       "      <td>126</td>\n",
       "      <td>82</td>\n",
       "      <td>131</td>\n",
       "      <td>277</td>\n",
       "      <td>196</td>\n",
       "      <td>126</td>\n",
       "      <td>64</td>\n",
       "      <td>0</td>\n",
       "      <td>0</td>\n",
       "      <td>0.152100</td>\n",
       "    </tr>\n",
       "    <tr>\n",
       "      <th>2</th>\n",
       "      <td>img_data/img_A01_arian_20.jpg</td>\n",
       "      <td>255</td>\n",
       "      <td>277</td>\n",
       "      <td>201</td>\n",
       "      <td>126</td>\n",
       "      <td>82</td>\n",
       "      <td>131</td>\n",
       "      <td>277</td>\n",
       "      <td>196</td>\n",
       "      <td>126</td>\n",
       "      <td>64</td>\n",
       "      <td>0</td>\n",
       "      <td>0</td>\n",
       "      <td>0.152100</td>\n",
       "    </tr>\n",
       "    <tr>\n",
       "      <th>3</th>\n",
       "      <td>img_data/img_A01_arian_30.jpg</td>\n",
       "      <td>255</td>\n",
       "      <td>10000</td>\n",
       "      <td>201</td>\n",
       "      <td>126</td>\n",
       "      <td>84</td>\n",
       "      <td>131</td>\n",
       "      <td>113</td>\n",
       "      <td>190</td>\n",
       "      <td>126</td>\n",
       "      <td>64</td>\n",
       "      <td>1</td>\n",
       "      <td>0</td>\n",
       "      <td>0.152100</td>\n",
       "    </tr>\n",
       "    <tr>\n",
       "      <th>4</th>\n",
       "      <td>img_data/img_A01_arian_40.jpg</td>\n",
       "      <td>257</td>\n",
       "      <td>291</td>\n",
       "      <td>198</td>\n",
       "      <td>126</td>\n",
       "      <td>84</td>\n",
       "      <td>123</td>\n",
       "      <td>113</td>\n",
       "      <td>197</td>\n",
       "      <td>126</td>\n",
       "      <td>64</td>\n",
       "      <td>1</td>\n",
       "      <td>0</td>\n",
       "      <td>0.168411</td>\n",
       "    </tr>\n",
       "    <tr>\n",
       "      <th>5</th>\n",
       "      <td>img_data/img_A01_arian_50.jpg</td>\n",
       "      <td>258</td>\n",
       "      <td>280</td>\n",
       "      <td>198</td>\n",
       "      <td>126</td>\n",
       "      <td>84</td>\n",
       "      <td>125</td>\n",
       "      <td>114</td>\n",
       "      <td>193</td>\n",
       "      <td>126</td>\n",
       "      <td>64</td>\n",
       "      <td>2</td>\n",
       "      <td>0</td>\n",
       "      <td>0.168411</td>\n",
       "    </tr>\n",
       "  </tbody>\n",
       "</table>\n",
       "</div>"
      ],
      "text/plain": [
       "                             img  left_15  left_30  left_45  left_60  left_75   \n",
       "1  img_data/img_A01_arian_10.jpg      255      277      201      126       82  \\\n",
       "2  img_data/img_A01_arian_20.jpg      255      277      201      126       82   \n",
       "3  img_data/img_A01_arian_30.jpg      255    10000      201      126       84   \n",
       "4  img_data/img_A01_arian_40.jpg      257      291      198      126       84   \n",
       "5  img_data/img_A01_arian_50.jpg      258      280      198      126       84   \n",
       "\n",
       "   right_15  right_30  right_45  right_60  right_75  speed label     steer  \n",
       "1       131       277       196       126        64      0     0  0.152100  \n",
       "2       131       277       196       126        64      0     0  0.152100  \n",
       "3       131       113       190       126        64      1     0  0.152100  \n",
       "4       123       113       197       126        64      1     0  0.168411  \n",
       "5       125       114       193       126        64      2     0  0.168411  "
      ]
     },
     "execution_count": 15,
     "metadata": {},
     "output_type": "execute_result"
    }
   ],
   "source": [
    "data = pd.read_csv(\"Train_data.csv\")\n",
    "data['img'] = data['img'].apply(lambda x : x[2:])\n",
    "data['label'] = data['label'].astype('category')\n",
    "\n",
    "\n",
    "data['steer'] = data['steer'].apply(lambda x : np.interp(x, [-65536, 65536], [-1, 1]))\n",
    "data = data[data['label'] != 2]\n",
    "\n",
    "train_df, val_df = train_test_split(data, test_size=0.33, random_state=42)\n",
    "\n",
    "image_datagen = ImageDataGenerator(rescale=1./255)\n",
    "\n",
    "train_imgs = image_datagen.flow_from_dataframe(\n",
    "    dataframe=train_df,\n",
    "    directory='C:/Users/Mohamed Ali/Documents/Semester_6/Artificial_Intelligence/Project/Trackmania_Self_Driving_AI_env',\n",
    "    x_col='img',\n",
    "    y_col=['label', 'steer'],\n",
    "    target_size=(224, 224),\n",
    "    batch_size=32,\n",
    "    class_mode='multi_output',\n",
    "    validate_filenames=False\n",
    ")\n",
    "val_imgs = image_datagen.flow_from_dataframe(\n",
    "    dataframe=val_df,\n",
    "    directory='C:/Users/Mohamed Ali/Documents/Semester_6/Artificial_Intelligence/Project/Trackmania_Self_Driving_AI_env',\n",
    "    x_col='img',\n",
    "    y_col=['label', 'steer'],\n",
    "    target_size=(224, 224),\n",
    "    batch_size=32,\n",
    "    class_mode='multi_output',\n",
    "    validate_filenames=False\n",
    ")\n",
    "data.head()"
   ]
  },
  {
   "cell_type": "code",
   "execution_count": 2,
   "metadata": {},
   "outputs": [],
   "source": [
    "input_img = Input(shape=(224, 224, 3), name='img_input')\n",
    "### 1st layer\n",
    "layer_1 = Conv2D(10, (1,1), padding='same', activation='relu')(input_img)\n",
    "layer_1 = Conv2D(10, (3,3), padding='same', activation='relu')(layer_1)\n",
    "\n",
    "layer_2 = Conv2D(10, (1,1), padding='same', activation='relu')(input_img)\n",
    "layer_2 = Conv2D(10, (5,5), padding='same', activation='relu')(layer_2)\n",
    "\n",
    "layer_3 = MaxPooling2D((3,3), strides=(1,1), padding='same')(input_img)\n",
    "layer_3 = Conv2D(10, (1,1), padding='same', activation='relu')(layer_3)\n",
    "\n",
    "mid_1 = concatenate([layer_1, layer_2, layer_3], axis = 3)\n",
    "merged = Dropout(0.5)(mid_1)"
   ]
  },
  {
   "cell_type": "code",
   "execution_count": 3,
   "metadata": {},
   "outputs": [],
   "source": [
    "flat_1 = Flatten()(merged)\n",
    "\n",
    "classification_output = Dense(1, activation='sigmoid', name='classification_output')(flat_1)\n",
    "Dense_1 = Dense(16, activation=tf.keras.layers.LeakyReLU(alpha=0.01))(flat_1)\n",
    "linear_output = Dense(1, activation='linear', name='linear_output')(Dense_1)\n",
    "\n",
    "model = Model(inputs=[input_img], outputs=[classification_output, linear_output])\n"
   ]
  },
  {
   "cell_type": "code",
   "execution_count": 4,
   "metadata": {},
   "outputs": [],
   "source": [
    "model.compile(optimizer='adam', loss={'classification_output': 'binary_crossentropy', 'linear_output': 'mse'}, metrics=['accuracy'])"
   ]
  },
  {
   "cell_type": "code",
   "execution_count": 5,
   "metadata": {},
   "outputs": [
    {
     "name": "stdout",
     "output_type": "stream",
     "text": [
      "Model: \"model\"\n",
      "__________________________________________________________________________________________________\n",
      " Layer (type)                   Output Shape         Param #     Connected to                     \n",
      "==================================================================================================\n",
      " img_input (InputLayer)         [(None, 224, 224, 3  0           []                               \n",
      "                                )]                                                                \n",
      "                                                                                                  \n",
      " conv2d (Conv2D)                (None, 224, 224, 10  40          ['img_input[0][0]']              \n",
      "                                )                                                                 \n",
      "                                                                                                  \n",
      " conv2d_2 (Conv2D)              (None, 224, 224, 10  40          ['img_input[0][0]']              \n",
      "                                )                                                                 \n",
      "                                                                                                  \n",
      " max_pooling2d (MaxPooling2D)   (None, 224, 224, 3)  0           ['img_input[0][0]']              \n",
      "                                                                                                  \n",
      " conv2d_1 (Conv2D)              (None, 224, 224, 10  910         ['conv2d[0][0]']                 \n",
      "                                )                                                                 \n",
      "                                                                                                  \n",
      " conv2d_3 (Conv2D)              (None, 224, 224, 10  2510        ['conv2d_2[0][0]']               \n",
      "                                )                                                                 \n",
      "                                                                                                  \n",
      " conv2d_4 (Conv2D)              (None, 224, 224, 10  40          ['max_pooling2d[0][0]']          \n",
      "                                )                                                                 \n",
      "                                                                                                  \n",
      " concatenate (Concatenate)      (None, 224, 224, 30  0           ['conv2d_1[0][0]',               \n",
      "                                )                                 'conv2d_3[0][0]',               \n",
      "                                                                  'conv2d_4[0][0]']               \n",
      "                                                                                                  \n",
      " dropout (Dropout)              (None, 224, 224, 30  0           ['concatenate[0][0]']            \n",
      "                                )                                                                 \n",
      "                                                                                                  \n",
      " flatten (Flatten)              (None, 1505280)      0           ['dropout[0][0]']                \n",
      "                                                                                                  \n",
      " dense (Dense)                  (None, 16)           24084496    ['flatten[0][0]']                \n",
      "                                                                                                  \n",
      " classification_output (Dense)  (None, 1)            1505281     ['flatten[0][0]']                \n",
      "                                                                                                  \n",
      " linear_output (Dense)          (None, 1)            17          ['dense[0][0]']                  \n",
      "                                                                                                  \n",
      "==================================================================================================\n",
      "Total params: 25,593,334\n",
      "Trainable params: 25,593,334\n",
      "Non-trainable params: 0\n",
      "__________________________________________________________________________________________________\n"
     ]
    }
   ],
   "source": [
    "model.summary()"
   ]
  },
  {
   "cell_type": "code",
   "execution_count": 11,
   "metadata": {},
   "outputs": [
    {
     "data": {
      "image/png": "[encoded data removed]",
      "text/plain": [
       "<IPython.core.display.Image object>"
      ]
     },
     "execution_count": 11,
     "metadata": {},
     "output_type": "execute_result"
    }
   ],
   "source": [
    "tf.keras.utils.plot_model(model)"
   ]
  },
  {
   "cell_type": "code",
   "execution_count": 4,
   "metadata": {},
   "outputs": [],
   "source": [
    "from tensorflow.keras.callbacks import EarlyStopping, ModelCheckpoint\n",
    "\n",
    "early_stop = EarlyStopping(monitor='val_loss', patience=3)\n",
    "checkpoint = ModelCheckpoint('inception_model.h5', monitor='val_accuracy', save_best_only=True, save_freq=\"epoch\")"
   ]
  },
  {
   "cell_type": "code",
   "execution_count": 13,
   "metadata": {},
   "outputs": [
    {
     "name": "stdout",
     "output_type": "stream",
     "text": [
      "Epoch 1/50\n",
      "1216/1216 [==============================] - ETA: 0s - loss: 28.8937 - classification_output_loss: 0.3694 - linear_output_loss: 28.5243 - classification_output_accuracy: 0.9873 - linear_output_accuracy: 0.3624WARNING:tensorflow:Can save best model only with val_accuracy available, skipping.\n",
      "1216/1216 [==============================] - 2788s 2s/step - loss: 28.8937 - classification_output_loss: 0.3694 - linear_output_loss: 28.5243 - classification_output_accuracy: 0.9873 - linear_output_accuracy: 0.3624 - val_loss: 0.4392 - val_classification_output_loss: 0.2716 - val_linear_output_loss: 0.1676 - val_classification_output_accuracy: 0.9933 - val_linear_output_accuracy: 0.4031\n",
      "Epoch 2/50\n",
      "1216/1216 [==============================] - ETA: 0s - loss: 0.3077 - classification_output_loss: 0.1540 - linear_output_loss: 0.1538 - classification_output_accuracy: 0.9943 - linear_output_accuracy: 0.4112WARNING:tensorflow:Can save best model only with val_accuracy available, skipping.\n",
      "1216/1216 [==============================] - 2808s 2s/step - loss: 0.3077 - classification_output_loss: 0.1540 - linear_output_loss: 0.1538 - classification_output_accuracy: 0.9943 - linear_output_accuracy: 0.4112 - val_loss: 0.3677 - val_classification_output_loss: 0.2519 - val_linear_output_loss: 0.1158 - val_classification_output_accuracy: 0.9942 - val_linear_output_accuracy: 0.4314\n",
      "Epoch 3/50\n",
      "1216/1216 [==============================] - ETA: 0s - loss: 0.2442 - classification_output_loss: 0.1364 - linear_output_loss: 0.1078 - classification_output_accuracy: 0.9964 - linear_output_accuracy: 0.4343WARNING:tensorflow:Can save best model only with val_accuracy available, skipping.\n",
      "1216/1216 [==============================] - 3045s 3s/step - loss: 0.2442 - classification_output_loss: 0.1364 - linear_output_loss: 0.1078 - classification_output_accuracy: 0.9964 - linear_output_accuracy: 0.4343 - val_loss: 0.1803 - val_classification_output_loss: 0.0920 - val_linear_output_loss: 0.0884 - val_classification_output_accuracy: 0.9964 - val_linear_output_accuracy: 0.4389\n",
      "Epoch 4/50\n",
      "1216/1216 [==============================] - ETA: 0s - loss: 0.1729 - classification_output_loss: 0.0920 - linear_output_loss: 0.0809 - classification_output_accuracy: 0.9973 - linear_output_accuracy: 0.4508WARNING:tensorflow:Can save best model only with val_accuracy available, skipping.\n",
      "1216/1216 [==============================] - 2812s 2s/step - loss: 0.1729 - classification_output_loss: 0.0920 - linear_output_loss: 0.0809 - classification_output_accuracy: 0.9973 - linear_output_accuracy: 0.4508 - val_loss: 0.2319 - val_classification_output_loss: 0.1613 - val_linear_output_loss: 0.0706 - val_classification_output_accuracy: 0.9961 - val_linear_output_accuracy: 0.4468\n",
      "Epoch 5/50\n",
      "1216/1216 [==============================] - ETA: 0s - loss: 0.1443 - classification_output_loss: 0.0797 - linear_output_loss: 0.0646 - classification_output_accuracy: 0.9978 - linear_output_accuracy: 0.4604WARNING:tensorflow:Can save best model only with val_accuracy available, skipping.\n",
      "1216/1216 [==============================] - 2697s 2s/step - loss: 0.1443 - classification_output_loss: 0.0797 - linear_output_loss: 0.0646 - classification_output_accuracy: 0.9978 - linear_output_accuracy: 0.4604 - val_loss: 0.2167 - val_classification_output_loss: 0.1512 - val_linear_output_loss: 0.0655 - val_classification_output_accuracy: 0.9976 - val_linear_output_accuracy: 0.4566\n",
      "Epoch 6/50\n",
      "1216/1216 [==============================] - ETA: 0s - loss: 0.1544 - classification_output_loss: 0.0980 - linear_output_loss: 0.0563 - classification_output_accuracy: 0.9974 - linear_output_accuracy: 0.4645WARNING:tensorflow:Can save best model only with val_accuracy available, skipping.\n",
      "1216/1216 [==============================] - 2928s 2s/step - loss: 0.1544 - classification_output_loss: 0.0980 - linear_output_loss: 0.0563 - classification_output_accuracy: 0.9974 - linear_output_accuracy: 0.4645 - val_loss: 0.1627 - val_classification_output_loss: 0.1060 - val_linear_output_loss: 0.0567 - val_classification_output_accuracy: 0.9984 - val_linear_output_accuracy: 0.4590\n",
      "Epoch 7/50\n",
      "1216/1216 [==============================] - ETA: 0s - loss: 0.1004 - classification_output_loss: 0.0492 - linear_output_loss: 0.0512 - classification_output_accuracy: 0.9986 - linear_output_accuracy: 0.4678WARNING:tensorflow:Can save best model only with val_accuracy available, skipping.\n",
      "1216/1216 [==============================] - 2635s 2s/step - loss: 0.1004 - classification_output_loss: 0.0492 - linear_output_loss: 0.0512 - classification_output_accuracy: 0.9986 - linear_output_accuracy: 0.4678 - val_loss: 0.1583 - val_classification_output_loss: 0.0962 - val_linear_output_loss: 0.0621 - val_classification_output_accuracy: 0.9967 - val_linear_output_accuracy: 0.4619\n",
      "Epoch 8/50\n",
      "1216/1216 [==============================] - ETA: 0s - loss: 0.1247 - classification_output_loss: 0.0794 - linear_output_loss: 0.0453 - classification_output_accuracy: 0.9983 - linear_output_accuracy: 0.4706WARNING:tensorflow:Can save best model only with val_accuracy available, skipping.\n",
      "1216/1216 [==============================] - 2644s 2s/step - loss: 0.1247 - classification_output_loss: 0.0794 - linear_output_loss: 0.0453 - classification_output_accuracy: 0.9983 - linear_output_accuracy: 0.4706 - val_loss: 0.2162 - val_classification_output_loss: 0.1660 - val_linear_output_loss: 0.0503 - val_classification_output_accuracy: 0.9940 - val_linear_output_accuracy: 0.4628\n",
      "Epoch 9/50\n",
      "1216/1216 [==============================] - ETA: 0s - loss: 0.0881 - classification_output_loss: 0.0483 - linear_output_loss: 0.0398 - classification_output_accuracy: 0.9986 - linear_output_accuracy: 0.4733WARNING:tensorflow:Can save best model only with val_accuracy available, skipping.\n",
      "1216/1216 [==============================] - 2466s 2s/step - loss: 0.0881 - classification_output_loss: 0.0483 - linear_output_loss: 0.0398 - classification_output_accuracy: 0.9986 - linear_output_accuracy: 0.4733 - val_loss: 0.1680 - val_classification_output_loss: 0.1208 - val_linear_output_loss: 0.0472 - val_classification_output_accuracy: 0.9980 - val_linear_output_accuracy: 0.4629\n",
      "Epoch 10/50\n",
      "1216/1216 [==============================] - ETA: 0s - loss: 0.0719 - classification_output_loss: 0.0374 - linear_output_loss: 0.0345 - classification_output_accuracy: 0.9989 - linear_output_accuracy: 0.4752WARNING:tensorflow:Can save best model only with val_accuracy available, skipping.\n",
      "1216/1216 [==============================] - 2366s 2s/step - loss: 0.0719 - classification_output_loss: 0.0374 - linear_output_loss: 0.0345 - classification_output_accuracy: 0.9989 - linear_output_accuracy: 0.4752 - val_loss: 0.1462 - val_classification_output_loss: 0.0992 - val_linear_output_loss: 0.0469 - val_classification_output_accuracy: 0.9973 - val_linear_output_accuracy: 0.4625\n",
      "Epoch 11/50\n",
      "1216/1216 [==============================] - ETA: 0s - loss: 0.0625 - classification_output_loss: 0.0309 - linear_output_loss: 0.0317 - classification_output_accuracy: 0.9991 - linear_output_accuracy: 0.4759WARNING:tensorflow:Can save best model only with val_accuracy available, skipping.\n",
      "1216/1216 [==============================] - 2941s 2s/step - loss: 0.0625 - classification_output_loss: 0.0309 - linear_output_loss: 0.0317 - classification_output_accuracy: 0.9991 - linear_output_accuracy: 0.4759 - val_loss: 0.0940 - val_classification_output_loss: 0.0493 - val_linear_output_loss: 0.0447 - val_classification_output_accuracy: 0.9986 - val_linear_output_accuracy: 0.4643\n",
      "Epoch 12/50\n",
      "1216/1216 [==============================] - ETA: 0s - loss: 0.0478 - classification_output_loss: 0.0183 - linear_output_loss: 0.0295 - classification_output_accuracy: 0.9993 - linear_output_accuracy: 0.4768WARNING:tensorflow:Can save best model only with val_accuracy available, skipping.\n",
      "1216/1216 [==============================] - 2698s 2s/step - loss: 0.0478 - classification_output_loss: 0.0183 - linear_output_loss: 0.0295 - classification_output_accuracy: 0.9993 - linear_output_accuracy: 0.4768 - val_loss: 0.1389 - val_classification_output_loss: 0.0954 - val_linear_output_loss: 0.0435 - val_classification_output_accuracy: 0.9978 - val_linear_output_accuracy: 0.4648\n",
      "Epoch 13/50\n",
      "1216/1216 [==============================] - ETA: 0s - loss: 0.0467 - classification_output_loss: 0.0190 - linear_output_loss: 0.0277 - classification_output_accuracy: 0.9992 - linear_output_accuracy: 0.4776WARNING:tensorflow:Can save best model only with val_accuracy available, skipping.\n",
      "1216/1216 [==============================] - 2676s 2s/step - loss: 0.0467 - classification_output_loss: 0.0190 - linear_output_loss: 0.0277 - classification_output_accuracy: 0.9992 - linear_output_accuracy: 0.4776 - val_loss: 0.1465 - val_classification_output_loss: 0.1041 - val_linear_output_loss: 0.0423 - val_classification_output_accuracy: 0.9974 - val_linear_output_accuracy: 0.4671\n",
      "Epoch 14/50\n",
      "1216/1216 [==============================] - ETA: 0s - loss: 0.0470 - classification_output_loss: 0.0201 - linear_output_loss: 0.0269 - classification_output_accuracy: 0.9990 - linear_output_accuracy: 0.4778WARNING:tensorflow:Can save best model only with val_accuracy available, skipping.\n",
      "1216/1216 [==============================] - 2798s 2s/step - loss: 0.0470 - classification_output_loss: 0.0201 - linear_output_loss: 0.0269 - classification_output_accuracy: 0.9990 - linear_output_accuracy: 0.4778 - val_loss: 0.0842 - val_classification_output_loss: 0.0401 - val_linear_output_loss: 0.0442 - val_classification_output_accuracy: 0.9981 - val_linear_output_accuracy: 0.4693\n",
      "Epoch 15/50\n",
      "1216/1216 [==============================] - ETA: 0s - loss: 0.0429 - classification_output_loss: 0.0182 - linear_output_loss: 0.0247 - classification_output_accuracy: 0.9992 - linear_output_accuracy: 0.4782WARNING:tensorflow:Can save best model only with val_accuracy available, skipping.\n",
      "1216/1216 [==============================] - 2693s 2s/step - loss: 0.0429 - classification_output_loss: 0.0182 - linear_output_loss: 0.0247 - classification_output_accuracy: 0.9992 - linear_output_accuracy: 0.4782 - val_loss: 0.0765 - val_classification_output_loss: 0.0349 - val_linear_output_loss: 0.0415 - val_classification_output_accuracy: 0.9976 - val_linear_output_accuracy: 0.4664\n",
      "Epoch 16/50\n",
      "1216/1216 [==============================] - ETA: 0s - loss: 0.0416 - classification_output_loss: 0.0155 - linear_output_loss: 0.0261 - classification_output_accuracy: 0.9992 - linear_output_accuracy: 0.4776WARNING:tensorflow:Can save best model only with val_accuracy available, skipping.\n",
      "1216/1216 [==============================] - 2704s 2s/step - loss: 0.0416 - classification_output_loss: 0.0155 - linear_output_loss: 0.0261 - classification_output_accuracy: 0.9992 - linear_output_accuracy: 0.4776 - val_loss: 0.0742 - val_classification_output_loss: 0.0332 - val_linear_output_loss: 0.0409 - val_classification_output_accuracy: 0.9980 - val_linear_output_accuracy: 0.4692\n",
      "Epoch 17/50\n",
      "1216/1216 [==============================] - ETA: 0s - loss: 0.0379 - classification_output_loss: 0.0152 - linear_output_loss: 0.0227 - classification_output_accuracy: 0.9993 - linear_output_accuracy: 0.4788WARNING:tensorflow:Can save best model only with val_accuracy available, skipping.\n",
      "1216/1216 [==============================] - 2810s 2s/step - loss: 0.0379 - classification_output_loss: 0.0152 - linear_output_loss: 0.0227 - classification_output_accuracy: 0.9993 - linear_output_accuracy: 0.4788 - val_loss: 0.0880 - val_classification_output_loss: 0.0465 - val_linear_output_loss: 0.0415 - val_classification_output_accuracy: 0.9980 - val_linear_output_accuracy: 0.4668\n",
      "Epoch 18/50\n",
      "1216/1216 [==============================] - ETA: 0s - loss: 0.0397 - classification_output_loss: 0.0175 - linear_output_loss: 0.0223 - classification_output_accuracy: 0.9992 - linear_output_accuracy: 0.4788WARNING:tensorflow:Can save best model only with val_accuracy available, skipping.\n",
      "1216/1216 [==============================] - 2725s 2s/step - loss: 0.0397 - classification_output_loss: 0.0175 - linear_output_loss: 0.0223 - classification_output_accuracy: 0.9992 - linear_output_accuracy: 0.4788 - val_loss: 0.0807 - val_classification_output_loss: 0.0367 - val_linear_output_loss: 0.0440 - val_classification_output_accuracy: 0.9969 - val_linear_output_accuracy: 0.4679\n",
      "Epoch 19/50\n",
      "1216/1216 [==============================] - ETA: 0s - loss: 0.0351 - classification_output_loss: 0.0133 - linear_output_loss: 0.0217 - classification_output_accuracy: 0.9993 - linear_output_accuracy: 0.4788WARNING:tensorflow:Can save best model only with val_accuracy available, skipping.\n",
      "1216/1216 [==============================] - 2671s 2s/step - loss: 0.0351 - classification_output_loss: 0.0133 - linear_output_loss: 0.0217 - classification_output_accuracy: 0.9993 - linear_output_accuracy: 0.4788 - val_loss: 0.0753 - val_classification_output_loss: 0.0386 - val_linear_output_loss: 0.0366 - val_classification_output_accuracy: 0.9985 - val_linear_output_accuracy: 0.4701\n"
     ]
    },
    {
     "data": {
      "text/plain": [
       "<keras.callbacks.History at 0x1f87a224e50>"
      ]
     },
     "execution_count": 13,
     "metadata": {},
     "output_type": "execute_result"
    }
   ],
   "source": [
    "model.fit(train_imgs,\n",
    "          epochs=50,\n",
    "          batch_size=32,\n",
    "          validation_data=val_imgs,\n",
    "          callbacks=[early_stop, checkpoint])"
   ]
  },
  {
   "cell_type": "code",
   "execution_count": 17,
   "metadata": {},
   "outputs": [],
   "source": [
    "model.save_weights('./model_weights.h5')"
   ]
  },
  {
   "cell_type": "code",
   "execution_count": 4,
   "metadata": {},
   "outputs": [],
   "source": [
    "model_1_input_img = Input(shape=(224, 224, 3), name='img_input')\n",
    "### 1st layer\n",
    "model_1_layer_1 = Conv2D(10, (1,1), padding='same', activation='relu')(model_1_input_img)\n",
    "model_1_layer_1 = Conv2D(10, (3,3), padding='same', activation='relu')(model_1_layer_1)\n",
    "\n",
    "model_1_layer_2 = Conv2D(10, (1,1), padding='same', activation='relu')(model_1_input_img)\n",
    "model_1_layer_2 = Conv2D(10, (5,5), padding='same', activation='relu')(model_1_layer_2)\n",
    "\n",
    "model_1_layer_3 = MaxPooling2D((3,3), strides=(1,1), padding='same')(model_1_input_img)\n",
    "model_1_layer_3 = Conv2D(10, (1,1), padding='same', activation='relu')(model_1_layer_3)\n",
    "\n",
    "model_1_mid_1 = concatenate([model_1_layer_1, model_1_layer_2, model_1_layer_3], axis = 3)\n",
    "model_1_merged = Dropout(0.5)(model_1_mid_1)"
   ]
  },
  {
   "cell_type": "code",
   "execution_count": 18,
   "metadata": {},
   "outputs": [],
   "source": [
    "model_1_flat_1 = Flatten()(model_1_merged)\n",
    "\n",
    "model_1_classification_output = Dense(1, activation='sigmoid', name='classification_output')(model_1_flat_1)\n",
    "model_1_Dense_1 = Dense(16, activation=tf.keras.layers.LeakyReLU(alpha=0.01))(model_1_flat_1)\n",
    "model_1_Dense_2 = Dense(1, activation='tanh')(model_1_Dense_1)\n",
    "model_1_dropout = Dropout(0.2)(model_1_Dense_2)\n",
    "model_1_linear_output = Dense(1, activation='linear', name='linear_output')(model_1_dropout)\n",
    "\n",
    "model_1 = Model(inputs=[model_1_input_img], outputs=[model_1_classification_output, model_1_linear_output])"
   ]
  },
  {
   "cell_type": "code",
   "execution_count": 19,
   "metadata": {},
   "outputs": [],
   "source": [
    "model_1.compile(optimizer='adam', loss={'classification_output': 'binary_crossentropy', 'linear_output': 'mse'}, metrics=['accuracy'])"
   ]
  },
  {
   "cell_type": "code",
   "execution_count": 20,
   "metadata": {},
   "outputs": [
    {
     "name": "stdout",
     "output_type": "stream",
     "text": [
      "Model: \"model_2\"\n",
      "__________________________________________________________________________________________________\n",
      " Layer (type)                   Output Shape         Param #     Connected to                     \n",
      "==================================================================================================\n",
      " img_input (InputLayer)         [(None, 224, 224, 3  0           []                               \n",
      "                                )]                                                                \n",
      "                                                                                                  \n",
      " conv2d_5 (Conv2D)              (None, 224, 224, 10  40          ['img_input[0][0]']              \n",
      "                                )                                                                 \n",
      "                                                                                                  \n",
      " conv2d_7 (Conv2D)              (None, 224, 224, 10  40          ['img_input[0][0]']              \n",
      "                                )                                                                 \n",
      "                                                                                                  \n",
      " max_pooling2d_1 (MaxPooling2D)  (None, 224, 224, 3)  0          ['img_input[0][0]']              \n",
      "                                                                                                  \n",
      " conv2d_6 (Conv2D)              (None, 224, 224, 10  910         ['conv2d_5[0][0]']               \n",
      "                                )                                                                 \n",
      "                                                                                                  \n",
      " conv2d_8 (Conv2D)              (None, 224, 224, 10  2510        ['conv2d_7[0][0]']               \n",
      "                                )                                                                 \n",
      "                                                                                                  \n",
      " conv2d_9 (Conv2D)              (None, 224, 224, 10  40          ['max_pooling2d_1[0][0]']        \n",
      "                                )                                                                 \n",
      "                                                                                                  \n",
      " concatenate (Concatenate)      (None, 224, 224, 30  0           ['conv2d_6[0][0]',               \n",
      "                                )                                 'conv2d_8[0][0]',               \n",
      "                                                                  'conv2d_9[0][0]']               \n",
      "                                                                                                  \n",
      " dropout (Dropout)              (None, 224, 224, 30  0           ['concatenate[0][0]']            \n",
      "                                )                                                                 \n",
      "                                                                                                  \n",
      " flatten_2 (Flatten)            (None, 1505280)      0           ['dropout[0][0]']                \n",
      "                                                                                                  \n",
      " dense_4 (Dense)                (None, 16)           24084496    ['flatten_2[0][0]']              \n",
      "                                                                                                  \n",
      " dense_5 (Dense)                (None, 1)            17          ['dense_4[0][0]']                \n",
      "                                                                                                  \n",
      " dropout_2 (Dropout)            (None, 1)            0           ['dense_5[0][0]']                \n",
      "                                                                                                  \n",
      " classification_output (Dense)  (None, 1)            1505281     ['flatten_2[0][0]']              \n",
      "                                                                                                  \n",
      " linear_output (Dense)          (None, 1)            2           ['dropout_2[0][0]']              \n",
      "                                                                                                  \n",
      "==================================================================================================\n",
      "Total params: 25,593,336\n",
      "Trainable params: 25,593,336\n",
      "Non-trainable params: 0\n",
      "__________________________________________________________________________________________________\n"
     ]
    }
   ],
   "source": [
    "model_1.summary()"
   ]
  },
  {
   "cell_type": "code",
   "execution_count": 22,
   "metadata": {},
   "outputs": [
    {
     "data": {
      "image/png": "[encoded data removed]",
      "text/plain": [
       "<IPython.core.display.Image object>"
      ]
     },
     "execution_count": 22,
     "metadata": {},
     "output_type": "execute_result"
    }
   ],
   "source": [
    "tf.keras.utils.plot_model(model_1, to_file=\"model_1.png\")"
   ]
  },
  {
   "cell_type": "code",
   "execution_count": 24,
   "metadata": {},
   "outputs": [],
   "source": [
    "from tensorflow.keras.callbacks import EarlyStopping, ModelCheckpoint\n",
    "\n",
    "early_stop_1 = EarlyStopping(monitor='val_linear_output_accuarcy', patience=3, verbose=1)\n",
    "checkpoint_1 = ModelCheckpoint('inception_model', monitor='val_loss', save_best_only=True, save_freq=\"epoch\", verbose=1)"
   ]
  },
  {
   "cell_type": "code",
   "execution_count": 25,
   "metadata": {},
   "outputs": [
    {
     "name": "stdout",
     "output_type": "stream",
     "text": [
      "Epoch 1/50\n",
      "1216/1216 [==============================] - ETA: 0s - loss: 0.1177 - classification_output_loss: 0.0132 - linear_output_loss: 0.1045 - classification_output_accuracy: 0.9982 - linear_output_accuracy: 0.4500WARNING:tensorflow:Early stopping conditioned on metric `va_linear_output_accuarcy` which is not available. Available metrics are: loss,classification_output_loss,linear_output_loss,classification_output_accuracy,linear_output_accuracy,val_loss,val_classification_output_loss,val_linear_output_loss,val_classification_output_accuracy,val_linear_output_accuracy\n",
      "WARNING:tensorflow:Can save best model only with val_accuracy available, skipping.\n",
      "1216/1216 [==============================] - 2730s 2s/step - loss: 0.1177 - classification_output_loss: 0.0132 - linear_output_loss: 0.1045 - classification_output_accuracy: 0.9982 - linear_output_accuracy: 0.4500 - val_loss: 0.0739 - val_classification_output_loss: 0.0169 - val_linear_output_loss: 0.0570 - val_classification_output_accuracy: 0.9987 - val_linear_output_accuracy: 0.4622\n",
      "Epoch 2/50\n",
      "1216/1216 [==============================] - ETA: 0s - loss: 0.0995 - classification_output_loss: 0.0104 - linear_output_loss: 0.0891 - classification_output_accuracy: 0.9988 - linear_output_accuracy: 0.4557WARNING:tensorflow:Early stopping conditioned on metric `va_linear_output_accuarcy` which is not available. Available metrics are: loss,classification_output_loss,linear_output_loss,classification_output_accuracy,linear_output_accuracy,val_loss,val_classification_output_loss,val_linear_output_loss,val_classification_output_accuracy,val_linear_output_accuracy\n",
      "WARNING:tensorflow:Can save best model only with val_accuracy available, skipping.\n",
      "1216/1216 [==============================] - 2729s 2s/step - loss: 0.0995 - classification_output_loss: 0.0104 - linear_output_loss: 0.0891 - classification_output_accuracy: 0.9988 - linear_output_accuracy: 0.4557 - val_loss: 0.0750 - val_classification_output_loss: 0.0175 - val_linear_output_loss: 0.0575 - val_classification_output_accuracy: 0.9978 - val_linear_output_accuracy: 0.4619\n",
      "Epoch 3/50\n",
      "1216/1216 [==============================] - ETA: 0s - loss: 0.0868 - classification_output_loss: 0.0053 - linear_output_loss: 0.0815 - classification_output_accuracy: 0.9992 - linear_output_accuracy: 0.4566WARNING:tensorflow:Early stopping conditioned on metric `va_linear_output_accuarcy` which is not available. Available metrics are: loss,classification_output_loss,linear_output_loss,classification_output_accuracy,linear_output_accuracy,val_loss,val_classification_output_loss,val_linear_output_loss,val_classification_output_accuracy,val_linear_output_accuracy\n",
      "WARNING:tensorflow:Can save best model only with val_accuracy available, skipping.\n",
      "1216/1216 [==============================] - 2727s 2s/step - loss: 0.0868 - classification_output_loss: 0.0053 - linear_output_loss: 0.0815 - classification_output_accuracy: 0.9992 - linear_output_accuracy: 0.4566 - val_loss: 0.0630 - val_classification_output_loss: 0.0183 - val_linear_output_loss: 0.0447 - val_classification_output_accuracy: 0.9976 - val_linear_output_accuracy: 0.4682\n",
      "Epoch 4/50\n",
      "1216/1216 [==============================] - ETA: 0s - loss: 0.0843 - classification_output_loss: 0.0056 - linear_output_loss: 0.0787 - classification_output_accuracy: 0.9994 - linear_output_accuracy: 0.4581WARNING:tensorflow:Early stopping conditioned on metric `va_linear_output_accuarcy` which is not available. Available metrics are: loss,classification_output_loss,linear_output_loss,classification_output_accuracy,linear_output_accuracy,val_loss,val_classification_output_loss,val_linear_output_loss,val_classification_output_accuracy,val_linear_output_accuracy\n",
      "WARNING:tensorflow:Can save best model only with val_accuracy available, skipping.\n",
      "1216/1216 [==============================] - 2735s 2s/step - loss: 0.0843 - classification_output_loss: 0.0056 - linear_output_loss: 0.0787 - classification_output_accuracy: 0.9994 - linear_output_accuracy: 0.4581 - val_loss: 0.0563 - val_classification_output_loss: 0.0154 - val_linear_output_loss: 0.0409 - val_classification_output_accuracy: 0.9979 - val_linear_output_accuracy: 0.4717\n",
      "Epoch 5/50\n",
      "1216/1216 [==============================] - ETA: 0s - loss: 0.0805 - classification_output_loss: 0.0045 - linear_output_loss: 0.0760 - classification_output_accuracy: 0.9994 - linear_output_accuracy: 0.4590WARNING:tensorflow:Early stopping conditioned on metric `va_linear_output_accuarcy` which is not available. Available metrics are: loss,classification_output_loss,linear_output_loss,classification_output_accuracy,linear_output_accuracy,val_loss,val_classification_output_loss,val_linear_output_loss,val_classification_output_accuracy,val_linear_output_accuracy\n",
      "WARNING:tensorflow:Can save best model only with val_accuracy available, skipping.\n",
      "1216/1216 [==============================] - 2722s 2s/step - loss: 0.0805 - classification_output_loss: 0.0045 - linear_output_loss: 0.0760 - classification_output_accuracy: 0.9994 - linear_output_accuracy: 0.4590 - val_loss: 0.0604 - val_classification_output_loss: 0.0205 - val_linear_output_loss: 0.0399 - val_classification_output_accuracy: 0.9975 - val_linear_output_accuracy: 0.4716\n",
      "Epoch 6/50\n",
      "1216/1216 [==============================] - ETA: 0s - loss: 0.0785 - classification_output_loss: 0.0057 - linear_output_loss: 0.0728 - classification_output_accuracy: 0.9992 - linear_output_accuracy: 0.4603WARNING:tensorflow:Early stopping conditioned on metric `va_linear_output_accuarcy` which is not available. Available metrics are: loss,classification_output_loss,linear_output_loss,classification_output_accuracy,linear_output_accuracy,val_loss,val_classification_output_loss,val_linear_output_loss,val_classification_output_accuracy,val_linear_output_accuracy\n",
      "WARNING:tensorflow:Can save best model only with val_accuracy available, skipping.\n",
      "1216/1216 [==============================] - 2695s 2s/step - loss: 0.0785 - classification_output_loss: 0.0057 - linear_output_loss: 0.0728 - classification_output_accuracy: 0.9992 - linear_output_accuracy: 0.4603 - val_loss: 0.0502 - val_classification_output_loss: 0.0129 - val_linear_output_loss: 0.0373 - val_classification_output_accuracy: 0.9980 - val_linear_output_accuracy: 0.4737\n",
      "Epoch 7/50\n",
      "1216/1216 [==============================] - ETA: 0s - loss: 0.0766 - classification_output_loss: 0.0038 - linear_output_loss: 0.0727 - classification_output_accuracy: 0.9995 - linear_output_accuracy: 0.4591WARNING:tensorflow:Early stopping conditioned on metric `va_linear_output_accuarcy` which is not available. Available metrics are: loss,classification_output_loss,linear_output_loss,classification_output_accuracy,linear_output_accuracy,val_loss,val_classification_output_loss,val_linear_output_loss,val_classification_output_accuracy,val_linear_output_accuracy\n",
      "WARNING:tensorflow:Can save best model only with val_accuracy available, skipping.\n",
      "1216/1216 [==============================] - 2705s 2s/step - loss: 0.0766 - classification_output_loss: 0.0038 - linear_output_loss: 0.0727 - classification_output_accuracy: 0.9995 - linear_output_accuracy: 0.4591 - val_loss: 0.0666 - val_classification_output_loss: 0.0208 - val_linear_output_loss: 0.0458 - val_classification_output_accuracy: 0.9967 - val_linear_output_accuracy: 0.4682\n",
      "Epoch 8/50\n",
      "1216/1216 [==============================] - ETA: 0s - loss: 0.0720 - classification_output_loss: 0.0036 - linear_output_loss: 0.0684 - classification_output_accuracy: 0.9995 - linear_output_accuracy: 0.4608WARNING:tensorflow:Early stopping conditioned on metric `va_linear_output_accuarcy` which is not available. Available metrics are: loss,classification_output_loss,linear_output_loss,classification_output_accuracy,linear_output_accuracy,val_loss,val_classification_output_loss,val_linear_output_loss,val_classification_output_accuracy,val_linear_output_accuracy\n",
      "WARNING:tensorflow:Can save best model only with val_accuracy available, skipping.\n",
      "1216/1216 [==============================] - 2701s 2s/step - loss: 0.0720 - classification_output_loss: 0.0036 - linear_output_loss: 0.0684 - classification_output_accuracy: 0.9995 - linear_output_accuracy: 0.4608 - val_loss: 0.0448 - val_classification_output_loss: 0.0120 - val_linear_output_loss: 0.0328 - val_classification_output_accuracy: 0.9981 - val_linear_output_accuracy: 0.4745\n",
      "Epoch 9/50\n",
      "1216/1216 [==============================] - ETA: 0s - loss: 0.0717 - classification_output_loss: 0.0032 - linear_output_loss: 0.0685 - classification_output_accuracy: 0.9995 - linear_output_accuracy: 0.4604WARNING:tensorflow:Early stopping conditioned on metric `va_linear_output_accuarcy` which is not available. Available metrics are: loss,classification_output_loss,linear_output_loss,classification_output_accuracy,linear_output_accuracy,val_loss,val_classification_output_loss,val_linear_output_loss,val_classification_output_accuracy,val_linear_output_accuracy\n",
      "WARNING:tensorflow:Can save best model only with val_accuracy available, skipping.\n",
      "1216/1216 [==============================] - 2691s 2s/step - loss: 0.0717 - classification_output_loss: 0.0032 - linear_output_loss: 0.0685 - classification_output_accuracy: 0.9995 - linear_output_accuracy: 0.4604 - val_loss: 0.0466 - val_classification_output_loss: 0.0122 - val_linear_output_loss: 0.0344 - val_classification_output_accuracy: 0.9979 - val_linear_output_accuracy: 0.4735\n",
      "Epoch 10/50\n",
      "1216/1216 [==============================] - ETA: 0s - loss: 0.0711 - classification_output_loss: 0.0035 - linear_output_loss: 0.0676 - classification_output_accuracy: 0.9995 - linear_output_accuracy: 0.4598WARNING:tensorflow:Early stopping conditioned on metric `va_linear_output_accuarcy` which is not available. Available metrics are: loss,classification_output_loss,linear_output_loss,classification_output_accuracy,linear_output_accuracy,val_loss,val_classification_output_loss,val_linear_output_loss,val_classification_output_accuracy,val_linear_output_accuracy\n",
      "WARNING:tensorflow:Can save best model only with val_accuracy available, skipping.\n",
      "1216/1216 [==============================] - 2693s 2s/step - loss: 0.0711 - classification_output_loss: 0.0035 - linear_output_loss: 0.0676 - classification_output_accuracy: 0.9995 - linear_output_accuracy: 0.4598 - val_loss: 0.0468 - val_classification_output_loss: 0.0111 - val_linear_output_loss: 0.0358 - val_classification_output_accuracy: 0.9978 - val_linear_output_accuracy: 0.4739\n",
      "Epoch 11/50\n",
      "1216/1216 [==============================] - ETA: 0s - loss: 0.0676 - classification_output_loss: 0.0023 - linear_output_loss: 0.0652 - classification_output_accuracy: 0.9995 - linear_output_accuracy: 0.4609WARNING:tensorflow:Early stopping conditioned on metric `va_linear_output_accuarcy` which is not available. Available metrics are: loss,classification_output_loss,linear_output_loss,classification_output_accuracy,linear_output_accuracy,val_loss,val_classification_output_loss,val_linear_output_loss,val_classification_output_accuracy,val_linear_output_accuracy\n",
      "WARNING:tensorflow:Can save best model only with val_accuracy available, skipping.\n",
      "1216/1216 [==============================] - 2689s 2s/step - loss: 0.0676 - classification_output_loss: 0.0023 - linear_output_loss: 0.0652 - classification_output_accuracy: 0.9995 - linear_output_accuracy: 0.4609 - val_loss: 0.0466 - val_classification_output_loss: 0.0108 - val_linear_output_loss: 0.0358 - val_classification_output_accuracy: 0.9981 - val_linear_output_accuracy: 0.4723\n",
      "Epoch 12/50\n",
      "1216/1216 [==============================] - ETA: 0s - loss: 0.0680 - classification_output_loss: 0.0020 - linear_output_loss: 0.0660 - classification_output_accuracy: 0.9996 - linear_output_accuracy: 0.4596WARNING:tensorflow:Early stopping conditioned on metric `va_linear_output_accuarcy` which is not available. Available metrics are: loss,classification_output_loss,linear_output_loss,classification_output_accuracy,linear_output_accuracy,val_loss,val_classification_output_loss,val_linear_output_loss,val_classification_output_accuracy,val_linear_output_accuracy\n",
      "WARNING:tensorflow:Can save best model only with val_accuracy available, skipping.\n",
      "1216/1216 [==============================] - 2652s 2s/step - loss: 0.0680 - classification_output_loss: 0.0020 - linear_output_loss: 0.0660 - classification_output_accuracy: 0.9996 - linear_output_accuracy: 0.4596 - val_loss: 0.0437 - val_classification_output_loss: 0.0107 - val_linear_output_loss: 0.0330 - val_classification_output_accuracy: 0.9978 - val_linear_output_accuracy: 0.4725\n",
      "Epoch 13/50\n",
      "1216/1216 [==============================] - ETA: 0s - loss: 0.0694 - classification_output_loss: 0.0025 - linear_output_loss: 0.0669 - classification_output_accuracy: 0.9995 - linear_output_accuracy: 0.4604WARNING:tensorflow:Early stopping conditioned on metric `va_linear_output_accuarcy` which is not available. Available metrics are: loss,classification_output_loss,linear_output_loss,classification_output_accuracy,linear_output_accuracy,val_loss,val_classification_output_loss,val_linear_output_loss,val_classification_output_accuracy,val_linear_output_accuracy\n",
      "WARNING:tensorflow:Can save best model only with val_accuracy available, skipping.\n",
      "1216/1216 [==============================] - 2708s 2s/step - loss: 0.0694 - classification_output_loss: 0.0025 - linear_output_loss: 0.0669 - classification_output_accuracy: 0.9995 - linear_output_accuracy: 0.4604 - val_loss: 0.0402 - val_classification_output_loss: 0.0089 - val_linear_output_loss: 0.0313 - val_classification_output_accuracy: 0.9980 - val_linear_output_accuracy: 0.4743\n",
      "Epoch 14/50\n",
      "1216/1216 [==============================] - ETA: 0s - loss: 0.0666 - classification_output_loss: 0.0017 - linear_output_loss: 0.0649 - classification_output_accuracy: 0.9996 - linear_output_accuracy: 0.4605WARNING:tensorflow:Early stopping conditioned on metric `va_linear_output_accuarcy` which is not available. Available metrics are: loss,classification_output_loss,linear_output_loss,classification_output_accuracy,linear_output_accuracy,val_loss,val_classification_output_loss,val_linear_output_loss,val_classification_output_accuracy,val_linear_output_accuracy\n",
      "WARNING:tensorflow:Can save best model only with val_accuracy available, skipping.\n",
      "1216/1216 [==============================] - 2742s 2s/step - loss: 0.0666 - classification_output_loss: 0.0017 - linear_output_loss: 0.0649 - classification_output_accuracy: 0.9996 - linear_output_accuracy: 0.4605 - val_loss: 0.0459 - val_classification_output_loss: 0.0139 - val_linear_output_loss: 0.0320 - val_classification_output_accuracy: 0.9976 - val_linear_output_accuracy: 0.4739\n",
      "Epoch 15/50\n",
      "1216/1216 [==============================] - ETA: 0s - loss: 0.0666 - classification_output_loss: 0.0016 - linear_output_loss: 0.0650 - classification_output_accuracy: 0.9996 - linear_output_accuracy: 0.4603WARNING:tensorflow:Early stopping conditioned on metric `va_linear_output_accuarcy` which is not available. Available metrics are: loss,classification_output_loss,linear_output_loss,classification_output_accuracy,linear_output_accuracy,val_loss,val_classification_output_loss,val_linear_output_loss,val_classification_output_accuracy,val_linear_output_accuracy\n",
      "WARNING:tensorflow:Can save best model only with val_accuracy available, skipping.\n",
      "1216/1216 [==============================] - 2827s 2s/step - loss: 0.0666 - classification_output_loss: 0.0016 - linear_output_loss: 0.0650 - classification_output_accuracy: 0.9996 - linear_output_accuracy: 0.4603 - val_loss: 0.0436 - val_classification_output_loss: 0.0118 - val_linear_output_loss: 0.0318 - val_classification_output_accuracy: 0.9976 - val_linear_output_accuracy: 0.4734\n",
      "Epoch 16/50\n",
      "1216/1216 [==============================] - ETA: 0s - loss: 0.0656 - classification_output_loss: 0.0018 - linear_output_loss: 0.0638 - classification_output_accuracy: 0.9995 - linear_output_accuracy: 0.4604WARNING:tensorflow:Early stopping conditioned on metric `va_linear_output_accuarcy` which is not available. Available metrics are: loss,classification_output_loss,linear_output_loss,classification_output_accuracy,linear_output_accuracy,val_loss,val_classification_output_loss,val_linear_output_loss,val_classification_output_accuracy,val_linear_output_accuracy\n",
      "WARNING:tensorflow:Can save best model only with val_accuracy available, skipping.\n",
      "1216/1216 [==============================] - 2841s 2s/step - loss: 0.0656 - classification_output_loss: 0.0018 - linear_output_loss: 0.0638 - classification_output_accuracy: 0.9995 - linear_output_accuracy: 0.4604 - val_loss: 0.0441 - val_classification_output_loss: 0.0094 - val_linear_output_loss: 0.0347 - val_classification_output_accuracy: 0.9980 - val_linear_output_accuracy: 0.4739\n",
      "Epoch 17/50\n",
      "1216/1216 [==============================] - ETA: 0s - loss: 0.0664 - classification_output_loss: 0.0012 - linear_output_loss: 0.0653 - classification_output_accuracy: 0.9997 - linear_output_accuracy: 0.4600WARNING:tensorflow:Early stopping conditioned on metric `va_linear_output_accuarcy` which is not available. Available metrics are: loss,classification_output_loss,linear_output_loss,classification_output_accuracy,linear_output_accuracy,val_loss,val_classification_output_loss,val_linear_output_loss,val_classification_output_accuracy,val_linear_output_accuracy\n",
      "WARNING:tensorflow:Can save best model only with val_accuracy available, skipping.\n",
      "1216/1216 [==============================] - 3048s 3s/step - loss: 0.0664 - classification_output_loss: 0.0012 - linear_output_loss: 0.0653 - classification_output_accuracy: 0.9997 - linear_output_accuracy: 0.4600 - val_loss: 0.0458 - val_classification_output_loss: 0.0143 - val_linear_output_loss: 0.0315 - val_classification_output_accuracy: 0.9976 - val_linear_output_accuracy: 0.4740\n",
      "Epoch 18/50\n",
      "1216/1216 [==============================] - ETA: 0s - loss: 0.0649 - classification_output_loss: 0.0012 - linear_output_loss: 0.0637 - classification_output_accuracy: 0.9996 - linear_output_accuracy: 0.4600WARNING:tensorflow:Early stopping conditioned on metric `va_linear_output_accuarcy` which is not available. Available metrics are: loss,classification_output_loss,linear_output_loss,classification_output_accuracy,linear_output_accuracy,val_loss,val_classification_output_loss,val_linear_output_loss,val_classification_output_accuracy,val_linear_output_accuracy\n",
      "WARNING:tensorflow:Can save best model only with val_accuracy available, skipping.\n",
      "1216/1216 [==============================] - 2690s 2s/step - loss: 0.0649 - classification_output_loss: 0.0012 - linear_output_loss: 0.0637 - classification_output_accuracy: 0.9996 - linear_output_accuracy: 0.4600 - val_loss: 0.0491 - val_classification_output_loss: 0.0126 - val_linear_output_loss: 0.0365 - val_classification_output_accuracy: 0.9975 - val_linear_output_accuracy: 0.4697\n",
      "Epoch 19/50\n",
      "1216/1216 [==============================] - ETA: 0s - loss: 0.0667 - classification_output_loss: 0.0014 - linear_output_loss: 0.0653 - classification_output_accuracy: 0.9996 - linear_output_accuracy: 0.4594WARNING:tensorflow:Early stopping conditioned on metric `va_linear_output_accuarcy` which is not available. Available metrics are: loss,classification_output_loss,linear_output_loss,classification_output_accuracy,linear_output_accuracy,val_loss,val_classification_output_loss,val_linear_output_loss,val_classification_output_accuracy,val_linear_output_accuracy\n",
      "WARNING:tensorflow:Can save best model only with val_accuracy available, skipping.\n",
      "1216/1216 [==============================] - 2732s 2s/step - loss: 0.0667 - classification_output_loss: 0.0014 - linear_output_loss: 0.0653 - classification_output_accuracy: 0.9996 - linear_output_accuracy: 0.4594 - val_loss: 0.0500 - val_classification_output_loss: 0.0165 - val_linear_output_loss: 0.0334 - val_classification_output_accuracy: 0.9973 - val_linear_output_accuracy: 0.4729\n",
      "Epoch 20/50\n",
      "   7/1216 [..............................] - ETA: 49:16 - loss: 0.0532 - classification_output_loss: 4.2636e-06 - linear_output_loss: 0.0532 - classification_output_accuracy: 1.0000 - linear_output_accuracy: 0.4062"
     ]
    },
    {
     "ename": "KeyboardInterrupt",
     "evalue": "",
     "output_type": "error",
     "traceback": [
      "\u001b[1;31m---------------------------------------------------------------------------\u001b[0m",
      "\u001b[1;31mKeyboardInterrupt\u001b[0m                         Traceback (most recent call last)",
      "Cell \u001b[1;32mIn[25], line 1\u001b[0m\n\u001b[1;32m----> 1\u001b[0m model_1\u001b[39m.\u001b[39;49mfit(train_imgs,\n\u001b[0;32m      2\u001b[0m           epochs\u001b[39m=\u001b[39;49m\u001b[39m50\u001b[39;49m,\n\u001b[0;32m      3\u001b[0m           batch_size\u001b[39m=\u001b[39;49m\u001b[39m32\u001b[39;49m,\n\u001b[0;32m      4\u001b[0m           validation_data\u001b[39m=\u001b[39;49mval_imgs,\n\u001b[0;32m      5\u001b[0m           callbacks\u001b[39m=\u001b[39;49m[early_stop_1, checkpoint_1])\n",
      "File \u001b[1;32mc:\\Users\\Mohamed Ali\\AppData\\Local\\Programs\\Python\\Python311\\Lib\\site-packages\\keras\\utils\\traceback_utils.py:65\u001b[0m, in \u001b[0;36mfilter_traceback.<locals>.error_handler\u001b[1;34m(*args, **kwargs)\u001b[0m\n\u001b[0;32m     63\u001b[0m filtered_tb \u001b[39m=\u001b[39m \u001b[39mNone\u001b[39;00m\n\u001b[0;32m     64\u001b[0m \u001b[39mtry\u001b[39;00m:\n\u001b[1;32m---> 65\u001b[0m     \u001b[39mreturn\u001b[39;00m fn(\u001b[39m*\u001b[39;49margs, \u001b[39m*\u001b[39;49m\u001b[39m*\u001b[39;49mkwargs)\n\u001b[0;32m     66\u001b[0m \u001b[39mexcept\u001b[39;00m \u001b[39mException\u001b[39;00m \u001b[39mas\u001b[39;00m e:\n\u001b[0;32m     67\u001b[0m     filtered_tb \u001b[39m=\u001b[39m _process_traceback_frames(e\u001b[39m.\u001b[39m__traceback__)\n",
      "File \u001b[1;32mc:\\Users\\Mohamed Ali\\AppData\\Local\\Programs\\Python\\Python311\\Lib\\site-packages\\keras\\engine\\training.py:1685\u001b[0m, in \u001b[0;36mModel.fit\u001b[1;34m(self, x, y, batch_size, epochs, verbose, callbacks, validation_split, validation_data, shuffle, class_weight, sample_weight, initial_epoch, steps_per_epoch, validation_steps, validation_batch_size, validation_freq, max_queue_size, workers, use_multiprocessing)\u001b[0m\n\u001b[0;32m   1677\u001b[0m \u001b[39mwith\u001b[39;00m tf\u001b[39m.\u001b[39mprofiler\u001b[39m.\u001b[39mexperimental\u001b[39m.\u001b[39mTrace(\n\u001b[0;32m   1678\u001b[0m     \u001b[39m\"\u001b[39m\u001b[39mtrain\u001b[39m\u001b[39m\"\u001b[39m,\n\u001b[0;32m   1679\u001b[0m     epoch_num\u001b[39m=\u001b[39mepoch,\n\u001b[1;32m   (...)\u001b[0m\n\u001b[0;32m   1682\u001b[0m     _r\u001b[39m=\u001b[39m\u001b[39m1\u001b[39m,\n\u001b[0;32m   1683\u001b[0m ):\n\u001b[0;32m   1684\u001b[0m     callbacks\u001b[39m.\u001b[39mon_train_batch_begin(step)\n\u001b[1;32m-> 1685\u001b[0m     tmp_logs \u001b[39m=\u001b[39m \u001b[39mself\u001b[39;49m\u001b[39m.\u001b[39;49mtrain_function(iterator)\n\u001b[0;32m   1686\u001b[0m     \u001b[39mif\u001b[39;00m data_handler\u001b[39m.\u001b[39mshould_sync:\n\u001b[0;32m   1687\u001b[0m         context\u001b[39m.\u001b[39masync_wait()\n",
      "File \u001b[1;32mc:\\Users\\Mohamed Ali\\AppData\\Local\\Programs\\Python\\Python311\\Lib\\site-packages\\tensorflow\\python\\util\\traceback_utils.py:150\u001b[0m, in \u001b[0;36mfilter_traceback.<locals>.error_handler\u001b[1;34m(*args, **kwargs)\u001b[0m\n\u001b[0;32m    148\u001b[0m filtered_tb \u001b[39m=\u001b[39m \u001b[39mNone\u001b[39;00m\n\u001b[0;32m    149\u001b[0m \u001b[39mtry\u001b[39;00m:\n\u001b[1;32m--> 150\u001b[0m   \u001b[39mreturn\u001b[39;00m fn(\u001b[39m*\u001b[39;49margs, \u001b[39m*\u001b[39;49m\u001b[39m*\u001b[39;49mkwargs)\n\u001b[0;32m    151\u001b[0m \u001b[39mexcept\u001b[39;00m \u001b[39mException\u001b[39;00m \u001b[39mas\u001b[39;00m e:\n\u001b[0;32m    152\u001b[0m   filtered_tb \u001b[39m=\u001b[39m _process_traceback_frames(e\u001b[39m.\u001b[39m__traceback__)\n",
      "File \u001b[1;32mc:\\Users\\Mohamed Ali\\AppData\\Local\\Programs\\Python\\Python311\\Lib\\site-packages\\tensorflow\\python\\eager\\polymorphic_function\\polymorphic_function.py:894\u001b[0m, in \u001b[0;36mFunction.__call__\u001b[1;34m(self, *args, **kwds)\u001b[0m\n\u001b[0;32m    891\u001b[0m compiler \u001b[39m=\u001b[39m \u001b[39m\"\u001b[39m\u001b[39mxla\u001b[39m\u001b[39m\"\u001b[39m \u001b[39mif\u001b[39;00m \u001b[39mself\u001b[39m\u001b[39m.\u001b[39m_jit_compile \u001b[39melse\u001b[39;00m \u001b[39m\"\u001b[39m\u001b[39mnonXla\u001b[39m\u001b[39m\"\u001b[39m\n\u001b[0;32m    893\u001b[0m \u001b[39mwith\u001b[39;00m OptionalXlaContext(\u001b[39mself\u001b[39m\u001b[39m.\u001b[39m_jit_compile):\n\u001b[1;32m--> 894\u001b[0m   result \u001b[39m=\u001b[39m \u001b[39mself\u001b[39;49m\u001b[39m.\u001b[39;49m_call(\u001b[39m*\u001b[39;49margs, \u001b[39m*\u001b[39;49m\u001b[39m*\u001b[39;49mkwds)\n\u001b[0;32m    896\u001b[0m new_tracing_count \u001b[39m=\u001b[39m \u001b[39mself\u001b[39m\u001b[39m.\u001b[39mexperimental_get_tracing_count()\n\u001b[0;32m    897\u001b[0m without_tracing \u001b[39m=\u001b[39m (tracing_count \u001b[39m==\u001b[39m new_tracing_count)\n",
      "File \u001b[1;32mc:\\Users\\Mohamed Ali\\AppData\\Local\\Programs\\Python\\Python311\\Lib\\site-packages\\tensorflow\\python\\eager\\polymorphic_function\\polymorphic_function.py:926\u001b[0m, in \u001b[0;36mFunction._call\u001b[1;34m(self, *args, **kwds)\u001b[0m\n\u001b[0;32m    923\u001b[0m   \u001b[39mself\u001b[39m\u001b[39m.\u001b[39m_lock\u001b[39m.\u001b[39mrelease()\n\u001b[0;32m    924\u001b[0m   \u001b[39m# In this case we have created variables on the first call, so we run the\u001b[39;00m\n\u001b[0;32m    925\u001b[0m   \u001b[39m# defunned version which is guaranteed to never create variables.\u001b[39;00m\n\u001b[1;32m--> 926\u001b[0m   \u001b[39mreturn\u001b[39;00m \u001b[39mself\u001b[39;49m\u001b[39m.\u001b[39;49m_no_variable_creation_fn(\u001b[39m*\u001b[39;49margs, \u001b[39m*\u001b[39;49m\u001b[39m*\u001b[39;49mkwds)  \u001b[39m# pylint: disable=not-callable\u001b[39;00m\n\u001b[0;32m    927\u001b[0m \u001b[39melif\u001b[39;00m \u001b[39mself\u001b[39m\u001b[39m.\u001b[39m_variable_creation_fn \u001b[39mis\u001b[39;00m \u001b[39mnot\u001b[39;00m \u001b[39mNone\u001b[39;00m:\n\u001b[0;32m    928\u001b[0m   \u001b[39m# Release the lock early so that multiple threads can perform the call\u001b[39;00m\n\u001b[0;32m    929\u001b[0m   \u001b[39m# in parallel.\u001b[39;00m\n\u001b[0;32m    930\u001b[0m   \u001b[39mself\u001b[39m\u001b[39m.\u001b[39m_lock\u001b[39m.\u001b[39mrelease()\n",
      "File \u001b[1;32mc:\\Users\\Mohamed Ali\\AppData\\Local\\Programs\\Python\\Python311\\Lib\\site-packages\\tensorflow\\python\\eager\\polymorphic_function\\tracing_compiler.py:143\u001b[0m, in \u001b[0;36mTracingCompiler.__call__\u001b[1;34m(self, *args, **kwargs)\u001b[0m\n\u001b[0;32m    140\u001b[0m \u001b[39mwith\u001b[39;00m \u001b[39mself\u001b[39m\u001b[39m.\u001b[39m_lock:\n\u001b[0;32m    141\u001b[0m   (concrete_function,\n\u001b[0;32m    142\u001b[0m    filtered_flat_args) \u001b[39m=\u001b[39m \u001b[39mself\u001b[39m\u001b[39m.\u001b[39m_maybe_define_function(args, kwargs)\n\u001b[1;32m--> 143\u001b[0m \u001b[39mreturn\u001b[39;00m concrete_function\u001b[39m.\u001b[39;49m_call_flat(\n\u001b[0;32m    144\u001b[0m     filtered_flat_args, captured_inputs\u001b[39m=\u001b[39;49mconcrete_function\u001b[39m.\u001b[39;49mcaptured_inputs)\n",
      "File \u001b[1;32mc:\\Users\\Mohamed Ali\\AppData\\Local\\Programs\\Python\\Python311\\Lib\\site-packages\\tensorflow\\python\\eager\\polymorphic_function\\monomorphic_function.py:1757\u001b[0m, in \u001b[0;36mConcreteFunction._call_flat\u001b[1;34m(self, args, captured_inputs, cancellation_manager)\u001b[0m\n\u001b[0;32m   1753\u001b[0m possible_gradient_type \u001b[39m=\u001b[39m gradients_util\u001b[39m.\u001b[39mPossibleTapeGradientTypes(args)\n\u001b[0;32m   1754\u001b[0m \u001b[39mif\u001b[39;00m (possible_gradient_type \u001b[39m==\u001b[39m gradients_util\u001b[39m.\u001b[39mPOSSIBLE_GRADIENT_TYPES_NONE\n\u001b[0;32m   1755\u001b[0m     \u001b[39mand\u001b[39;00m executing_eagerly):\n\u001b[0;32m   1756\u001b[0m   \u001b[39m# No tape is watching; skip to running the function.\u001b[39;00m\n\u001b[1;32m-> 1757\u001b[0m   \u001b[39mreturn\u001b[39;00m \u001b[39mself\u001b[39m\u001b[39m.\u001b[39m_build_call_outputs(\u001b[39mself\u001b[39;49m\u001b[39m.\u001b[39;49m_inference_function\u001b[39m.\u001b[39;49mcall(\n\u001b[0;32m   1758\u001b[0m       ctx, args, cancellation_manager\u001b[39m=\u001b[39;49mcancellation_manager))\n\u001b[0;32m   1759\u001b[0m forward_backward \u001b[39m=\u001b[39m \u001b[39mself\u001b[39m\u001b[39m.\u001b[39m_select_forward_and_backward_functions(\n\u001b[0;32m   1760\u001b[0m     args,\n\u001b[0;32m   1761\u001b[0m     possible_gradient_type,\n\u001b[0;32m   1762\u001b[0m     executing_eagerly)\n\u001b[0;32m   1763\u001b[0m forward_function, args_with_tangents \u001b[39m=\u001b[39m forward_backward\u001b[39m.\u001b[39mforward()\n",
      "File \u001b[1;32mc:\\Users\\Mohamed Ali\\AppData\\Local\\Programs\\Python\\Python311\\Lib\\site-packages\\tensorflow\\python\\eager\\polymorphic_function\\monomorphic_function.py:381\u001b[0m, in \u001b[0;36m_EagerDefinedFunction.call\u001b[1;34m(self, ctx, args, cancellation_manager)\u001b[0m\n\u001b[0;32m    379\u001b[0m \u001b[39mwith\u001b[39;00m _InterpolateFunctionError(\u001b[39mself\u001b[39m):\n\u001b[0;32m    380\u001b[0m   \u001b[39mif\u001b[39;00m cancellation_manager \u001b[39mis\u001b[39;00m \u001b[39mNone\u001b[39;00m:\n\u001b[1;32m--> 381\u001b[0m     outputs \u001b[39m=\u001b[39m execute\u001b[39m.\u001b[39;49mexecute(\n\u001b[0;32m    382\u001b[0m         \u001b[39mstr\u001b[39;49m(\u001b[39mself\u001b[39;49m\u001b[39m.\u001b[39;49msignature\u001b[39m.\u001b[39;49mname),\n\u001b[0;32m    383\u001b[0m         num_outputs\u001b[39m=\u001b[39;49m\u001b[39mself\u001b[39;49m\u001b[39m.\u001b[39;49m_num_outputs,\n\u001b[0;32m    384\u001b[0m         inputs\u001b[39m=\u001b[39;49margs,\n\u001b[0;32m    385\u001b[0m         attrs\u001b[39m=\u001b[39;49mattrs,\n\u001b[0;32m    386\u001b[0m         ctx\u001b[39m=\u001b[39;49mctx)\n\u001b[0;32m    387\u001b[0m   \u001b[39melse\u001b[39;00m:\n\u001b[0;32m    388\u001b[0m     outputs \u001b[39m=\u001b[39m execute\u001b[39m.\u001b[39mexecute_with_cancellation(\n\u001b[0;32m    389\u001b[0m         \u001b[39mstr\u001b[39m(\u001b[39mself\u001b[39m\u001b[39m.\u001b[39msignature\u001b[39m.\u001b[39mname),\n\u001b[0;32m    390\u001b[0m         num_outputs\u001b[39m=\u001b[39m\u001b[39mself\u001b[39m\u001b[39m.\u001b[39m_num_outputs,\n\u001b[1;32m   (...)\u001b[0m\n\u001b[0;32m    393\u001b[0m         ctx\u001b[39m=\u001b[39mctx,\n\u001b[0;32m    394\u001b[0m         cancellation_manager\u001b[39m=\u001b[39mcancellation_manager)\n",
      "File \u001b[1;32mc:\\Users\\Mohamed Ali\\AppData\\Local\\Programs\\Python\\Python311\\Lib\\site-packages\\tensorflow\\python\\eager\\execute.py:52\u001b[0m, in \u001b[0;36mquick_execute\u001b[1;34m(op_name, num_outputs, inputs, attrs, ctx, name)\u001b[0m\n\u001b[0;32m     50\u001b[0m \u001b[39mtry\u001b[39;00m:\n\u001b[0;32m     51\u001b[0m   ctx\u001b[39m.\u001b[39mensure_initialized()\n\u001b[1;32m---> 52\u001b[0m   tensors \u001b[39m=\u001b[39m pywrap_tfe\u001b[39m.\u001b[39;49mTFE_Py_Execute(ctx\u001b[39m.\u001b[39;49m_handle, device_name, op_name,\n\u001b[0;32m     53\u001b[0m                                       inputs, attrs, num_outputs)\n\u001b[0;32m     54\u001b[0m \u001b[39mexcept\u001b[39;00m core\u001b[39m.\u001b[39m_NotOkStatusException \u001b[39mas\u001b[39;00m e:\n\u001b[0;32m     55\u001b[0m   \u001b[39mif\u001b[39;00m name \u001b[39mis\u001b[39;00m \u001b[39mnot\u001b[39;00m \u001b[39mNone\u001b[39;00m:\n",
      "\u001b[1;31mKeyboardInterrupt\u001b[0m: "
     ]
    }
   ],
   "source": [
    "model_1.fit(train_imgs,\n",
    "          epochs=50,\n",
    "          batch_size=32,\n",
    "          validation_data=val_imgs,\n",
    "          callbacks=[early_stop_1, checkpoint_1])"
   ]
  },
  {
   "cell_type": "code",
   "execution_count": 26,
   "metadata": {},
   "outputs": [
    {
     "name": "stdout",
     "output_type": "stream",
     "text": [
      "304/304 [==============================] - 82s 269ms/step - loss: 0.0531 - classification_output_loss: 0.0175 - linear_output_loss: 0.0356 - classification_output_accuracy: 0.9971 - linear_output_accuracy: 0.4729\n"
     ]
    },
    {
     "data": {
      "text/plain": [
       "[0.05312800407409668,\n",
       " 0.017504272982478142,\n",
       " 0.035623736679553986,\n",
       " 0.997119665145874,\n",
       " 0.47289374470710754]"
      ]
     },
     "execution_count": 26,
     "metadata": {},
     "output_type": "execute_result"
    }
   ],
   "source": [
    "model_1.evaluate(val_imgs)"
   ]
  },
  {
   "cell_type": "code",
   "execution_count": 27,
   "metadata": {},
   "outputs": [],
   "source": [
    "model_1.save_weights('./checkpoints/model_1_weights.h5')"
   ]
  },
  {
   "cell_type": "code",
   "execution_count": 5,
   "metadata": {},
   "outputs": [],
   "source": [
    "model_2_input_img = Input(shape=(224, 224, 3), name='img_input')\n",
    "### 1st layer\n",
    "model_2_layer_1 = Conv2D(10, (1,1), padding='same', activation='relu')(model_2_input_img)\n",
    "model_2_layer_1 = Conv2D(10, (3,3), padding='same', activation='relu')(model_2_layer_1)\n",
    "model_2_layer_2 = Conv2D(10, (1,1), padding='same', activation='relu')(model_2_input_img)\n",
    "model_2_layer_2 = Conv2D(10, (5,5), padding='same', activation='relu')(model_2_layer_2)\n",
    "model_2_layer_3 = MaxPooling2D((3,3), strides=(1,1), padding='same')(model_2_input_img)\n",
    "model_2_layer_3 = Conv2D(10, (1,1), padding='same', activation='relu')(model_2_layer_3)\n",
    "model_2_mid_1 = concatenate([model_2_layer_1, model_2_layer_2, model_2_layer_3], axis = 3)\n",
    "model_2_merged = Dropout(0.5)(model_2_mid_1)"
   ]
  },
  {
   "cell_type": "code",
   "execution_count": 23,
   "metadata": {},
   "outputs": [],
   "source": [
    "model_2_flat_1 = Flatten()(model_2_merged)\n",
    "\n",
    "model_2_classification_output = Dense(1, activation='sigmoid', name='classification_output')(model_2_flat_1)\n",
    "model_2_Dense_1 = Dense(16, activation='relu')(model_2_flat_1)\n",
    "model_2_Dense_2 = Dense(8, activation='relu')(model_2_Dense_1)\n",
    "model_2_Dense_3 = Dense(4, activation='relu')(model_2_Dense_2)\n",
    "model_2_dropout = Dropout(0.25)(model_2_Dense_3)\n",
    "model_2_linear_output = Dense(1, activation='tanh', name='linear_output')(model_2_dropout)\n",
    "\n",
    "model_2 = Model(inputs=[model_2_input_img], outputs=[model_2_classification_output, model_2_linear_output])"
   ]
  },
  {
   "cell_type": "code",
   "execution_count": 24,
   "metadata": {},
   "outputs": [],
   "source": [
    "model_2.compile(optimizer='adam', loss={'classification_output': 'binary_crossentropy', 'linear_output': 'mse'}, metrics=['accuracy'])"
   ]
  },
  {
   "cell_type": "code",
   "execution_count": 25,
   "metadata": {},
   "outputs": [
    {
     "name": "stdout",
     "output_type": "stream",
     "text": [
      "Model: \"model_3\"\n",
      "__________________________________________________________________________________________________\n",
      " Layer (type)                   Output Shape         Param #     Connected to                     \n",
      "==================================================================================================\n",
      " img_input (InputLayer)         [(None, 224, 224, 3  0           []                               \n",
      "                                )]                                                                \n",
      "                                                                                                  \n",
      " conv2d (Conv2D)                (None, 224, 224, 10  40          ['img_input[0][0]']              \n",
      "                                )                                                                 \n",
      "                                                                                                  \n",
      " conv2d_2 (Conv2D)              (None, 224, 224, 10  40          ['img_input[0][0]']              \n",
      "                                )                                                                 \n",
      "                                                                                                  \n",
      " max_pooling2d (MaxPooling2D)   (None, 224, 224, 3)  0           ['img_input[0][0]']              \n",
      "                                                                                                  \n",
      " conv2d_1 (Conv2D)              (None, 224, 224, 10  910         ['conv2d[0][0]']                 \n",
      "                                )                                                                 \n",
      "                                                                                                  \n",
      " conv2d_3 (Conv2D)              (None, 224, 224, 10  2510        ['conv2d_2[0][0]']               \n",
      "                                )                                                                 \n",
      "                                                                                                  \n",
      " conv2d_4 (Conv2D)              (None, 224, 224, 10  40          ['max_pooling2d[0][0]']          \n",
      "                                )                                                                 \n",
      "                                                                                                  \n",
      " concatenate (Concatenate)      (None, 224, 224, 30  0           ['conv2d_1[0][0]',               \n",
      "                                )                                 'conv2d_3[0][0]',               \n",
      "                                                                  'conv2d_4[0][0]']               \n",
      "                                                                                                  \n",
      " dropout (Dropout)              (None, 224, 224, 30  0           ['concatenate[0][0]']            \n",
      "                                )                                                                 \n",
      "                                                                                                  \n",
      " flatten_3 (Flatten)            (None, 1505280)      0           ['dropout[0][0]']                \n",
      "                                                                                                  \n",
      " dense_9 (Dense)                (None, 16)           24084496    ['flatten_3[0][0]']              \n",
      "                                                                                                  \n",
      " dense_10 (Dense)               (None, 8)            136         ['dense_9[0][0]']                \n",
      "                                                                                                  \n",
      " dense_11 (Dense)               (None, 4)            36          ['dense_10[0][0]']               \n",
      "                                                                                                  \n",
      " dropout_4 (Dropout)            (None, 4)            0           ['dense_11[0][0]']               \n",
      "                                                                                                  \n",
      " classification_output (Dense)  (None, 1)            1505281     ['flatten_3[0][0]']              \n",
      "                                                                                                  \n",
      " linear_output (Dense)          (None, 1)            5           ['dropout_4[0][0]']              \n",
      "                                                                                                  \n",
      "==================================================================================================\n",
      "Total params: 25,593,494\n",
      "Trainable params: 25,593,494\n",
      "Non-trainable params: 0\n",
      "__________________________________________________________________________________________________\n"
     ]
    }
   ],
   "source": [
    "model_2.summary()"
   ]
  },
  {
   "cell_type": "code",
   "execution_count": 26,
   "metadata": {},
   "outputs": [
    {
     "data": {
      "image/png": "[encoded data removed]",
      "text/plain": [
       "<IPython.core.display.Image object>"
      ]
     },
     "execution_count": 26,
     "metadata": {},
     "output_type": "execute_result"
    }
   ],
   "source": [
    "tf.keras.utils.plot_model(model_2, to_file=\"model_2.png\")"
   ]
  },
  {
   "cell_type": "code",
   "execution_count": 27,
   "metadata": {},
   "outputs": [],
   "source": [
    "early_stop_2 = EarlyStopping(monitor='val_linear_output_accuracy', patience=3, verbose=1)\n",
    "checkpoint_2 = ModelCheckpoint('inception_model', monitor='val_loss', save_best_only=False, save_freq=\"epoch\", verbose=1)"
   ]
  },
  {
   "cell_type": "code",
   "execution_count": 28,
   "metadata": {},
   "outputs": [
    {
     "name": "stdout",
     "output_type": "stream",
     "text": [
      "Epoch 1/30\n",
      "1018/1018 [==============================] - ETA: 0s - loss: 0.2101 - classification_output_loss: 0.0306 - linear_output_loss: 0.1794 - classification_output_accuracy: 0.9945 - linear_output_accuracy: 0.4018\n",
      "Epoch 1: saving model to inception_model\n"
     ]
    },
    {
     "name": "stderr",
     "output_type": "stream",
     "text": [
      "WARNING:absl:Found untraced functions such as _jit_compiled_convolution_op, _jit_compiled_convolution_op, _jit_compiled_convolution_op, _jit_compiled_convolution_op, _jit_compiled_convolution_op while saving (showing 5 of 6). These functions will not be directly callable after loading.\n"
     ]
    },
    {
     "name": "stdout",
     "output_type": "stream",
     "text": [
      "INFO:tensorflow:Assets written to: inception_model\\assets\n"
     ]
    },
    {
     "name": "stderr",
     "output_type": "stream",
     "text": [
      "INFO:tensorflow:Assets written to: inception_model\\assets\n"
     ]
    },
    {
     "name": "stdout",
     "output_type": "stream",
     "text": [
      "1018/1018 [==============================] - 2334s 2s/step - loss: 0.2101 - classification_output_loss: 0.0306 - linear_output_loss: 0.1794 - classification_output_accuracy: 0.9945 - linear_output_accuracy: 0.4018 - val_loss: 0.0905 - val_classification_output_loss: 0.0119 - val_linear_output_loss: 0.0786 - val_classification_output_accuracy: 0.9981 - val_linear_output_accuracy: 0.4503\n",
      "Epoch 2/30\n",
      "1018/1018 [==============================] - ETA: 0s - loss: 0.0999 - classification_output_loss: 0.0081 - linear_output_loss: 0.0918 - classification_output_accuracy: 0.9984 - linear_output_accuracy: 0.4419\n",
      "Epoch 2: saving model to inception_model\n"
     ]
    },
    {
     "name": "stderr",
     "output_type": "stream",
     "text": [
      "WARNING:absl:Found untraced functions such as _jit_compiled_convolution_op, _jit_compiled_convolution_op, _jit_compiled_convolution_op, _jit_compiled_convolution_op, _jit_compiled_convolution_op while saving (showing 5 of 6). These functions will not be directly callable after loading.\n"
     ]
    },
    {
     "name": "stdout",
     "output_type": "stream",
     "text": [
      "INFO:tensorflow:Assets written to: inception_model\\assets\n"
     ]
    },
    {
     "name": "stderr",
     "output_type": "stream",
     "text": [
      "INFO:tensorflow:Assets written to: inception_model\\assets\n"
     ]
    },
    {
     "name": "stdout",
     "output_type": "stream",
     "text": [
      "1018/1018 [==============================] - 2304s 2s/step - loss: 0.0999 - classification_output_loss: 0.0081 - linear_output_loss: 0.0918 - classification_output_accuracy: 0.9984 - linear_output_accuracy: 0.4419 - val_loss: 0.0557 - val_classification_output_loss: 0.0089 - val_linear_output_loss: 0.0467 - val_classification_output_accuracy: 0.9983 - val_linear_output_accuracy: 0.4646\n",
      "Epoch 3/30\n",
      "1018/1018 [==============================] - ETA: 0s - loss: 0.0755 - classification_output_loss: 0.0059 - linear_output_loss: 0.0696 - classification_output_accuracy: 0.9990 - linear_output_accuracy: 0.4512\n",
      "Epoch 3: saving model to inception_model\n"
     ]
    },
    {
     "name": "stderr",
     "output_type": "stream",
     "text": [
      "WARNING:absl:Found untraced functions such as _jit_compiled_convolution_op, _jit_compiled_convolution_op, _jit_compiled_convolution_op, _jit_compiled_convolution_op, _jit_compiled_convolution_op while saving (showing 5 of 6). These functions will not be directly callable after loading.\n"
     ]
    },
    {
     "name": "stdout",
     "output_type": "stream",
     "text": [
      "INFO:tensorflow:Assets written to: inception_model\\assets\n"
     ]
    },
    {
     "name": "stderr",
     "output_type": "stream",
     "text": [
      "INFO:tensorflow:Assets written to: inception_model\\assets\n"
     ]
    },
    {
     "name": "stdout",
     "output_type": "stream",
     "text": [
      "1018/1018 [==============================] - 2298s 2s/step - loss: 0.0755 - classification_output_loss: 0.0059 - linear_output_loss: 0.0696 - classification_output_accuracy: 0.9990 - linear_output_accuracy: 0.4512 - val_loss: 0.0548 - val_classification_output_loss: 0.0187 - val_linear_output_loss: 0.0361 - val_classification_output_accuracy: 0.9977 - val_linear_output_accuracy: 0.4701\n",
      "Epoch 4/30\n",
      "1018/1018 [==============================] - ETA: 0s - loss: 0.0669 - classification_output_loss: 0.0038 - linear_output_loss: 0.0632 - classification_output_accuracy: 0.9993 - linear_output_accuracy: 0.4525\n",
      "Epoch 4: saving model to inception_model\n"
     ]
    },
    {
     "name": "stderr",
     "output_type": "stream",
     "text": [
      "WARNING:absl:Found untraced functions such as _jit_compiled_convolution_op, _jit_compiled_convolution_op, _jit_compiled_convolution_op, _jit_compiled_convolution_op, _jit_compiled_convolution_op while saving (showing 5 of 6). These functions will not be directly callable after loading.\n"
     ]
    },
    {
     "name": "stdout",
     "output_type": "stream",
     "text": [
      "INFO:tensorflow:Assets written to: inception_model\\assets\n"
     ]
    },
    {
     "name": "stderr",
     "output_type": "stream",
     "text": [
      "INFO:tensorflow:Assets written to: inception_model\\assets\n"
     ]
    },
    {
     "name": "stdout",
     "output_type": "stream",
     "text": [
      "1018/1018 [==============================] - 2221s 2s/step - loss: 0.0669 - classification_output_loss: 0.0038 - linear_output_loss: 0.0632 - classification_output_accuracy: 0.9993 - linear_output_accuracy: 0.4525 - val_loss: 0.0518 - val_classification_output_loss: 0.0155 - val_linear_output_loss: 0.0363 - val_classification_output_accuracy: 0.9979 - val_linear_output_accuracy: 0.4697\n",
      "Epoch 5/30\n",
      "1018/1018 [==============================] - ETA: 0s - loss: 0.0647 - classification_output_loss: 0.0043 - linear_output_loss: 0.0604 - classification_output_accuracy: 0.9991 - linear_output_accuracy: 0.4530\n",
      "Epoch 5: saving model to inception_model\n"
     ]
    },
    {
     "name": "stderr",
     "output_type": "stream",
     "text": [
      "WARNING:absl:Found untraced functions such as _jit_compiled_convolution_op, _jit_compiled_convolution_op, _jit_compiled_convolution_op, _jit_compiled_convolution_op, _jit_compiled_convolution_op while saving (showing 5 of 6). These functions will not be directly callable after loading.\n"
     ]
    },
    {
     "name": "stdout",
     "output_type": "stream",
     "text": [
      "INFO:tensorflow:Assets written to: inception_model\\assets\n"
     ]
    },
    {
     "name": "stderr",
     "output_type": "stream",
     "text": [
      "INFO:tensorflow:Assets written to: inception_model\\assets\n"
     ]
    },
    {
     "name": "stdout",
     "output_type": "stream",
     "text": [
      "1018/1018 [==============================] - 2064s 2s/step - loss: 0.0647 - classification_output_loss: 0.0043 - linear_output_loss: 0.0604 - classification_output_accuracy: 0.9991 - linear_output_accuracy: 0.4530 - val_loss: 0.0569 - val_classification_output_loss: 0.0197 - val_linear_output_loss: 0.0372 - val_classification_output_accuracy: 0.9975 - val_linear_output_accuracy: 0.4691\n",
      "Epoch 6/30\n",
      "1018/1018 [==============================] - ETA: 0s - loss: 0.0602 - classification_output_loss: 0.0032 - linear_output_loss: 0.0570 - classification_output_accuracy: 0.9995 - linear_output_accuracy: 0.4544\n",
      "Epoch 6: saving model to inception_model\n"
     ]
    },
    {
     "name": "stderr",
     "output_type": "stream",
     "text": [
      "WARNING:absl:Found untraced functions such as _jit_compiled_convolution_op, _jit_compiled_convolution_op, _jit_compiled_convolution_op, _jit_compiled_convolution_op, _jit_compiled_convolution_op while saving (showing 5 of 6). These functions will not be directly callable after loading.\n"
     ]
    },
    {
     "name": "stdout",
     "output_type": "stream",
     "text": [
      "INFO:tensorflow:Assets written to: inception_model\\assets\n"
     ]
    },
    {
     "name": "stderr",
     "output_type": "stream",
     "text": [
      "INFO:tensorflow:Assets written to: inception_model\\assets\n"
     ]
    },
    {
     "name": "stdout",
     "output_type": "stream",
     "text": [
      "1018/1018 [==============================] - 2295s 2s/step - loss: 0.0602 - classification_output_loss: 0.0032 - linear_output_loss: 0.0570 - classification_output_accuracy: 0.9995 - linear_output_accuracy: 0.4544 - val_loss: 0.0522 - val_classification_output_loss: 0.0196 - val_linear_output_loss: 0.0326 - val_classification_output_accuracy: 0.9978 - val_linear_output_accuracy: 0.4719\n",
      "Epoch 7/30\n",
      "1018/1018 [==============================] - ETA: 0s - loss: 0.0613 - classification_output_loss: 0.0033 - linear_output_loss: 0.0580 - classification_output_accuracy: 0.9995 - linear_output_accuracy: 0.4525\n",
      "Epoch 7: saving model to inception_model\n"
     ]
    },
    {
     "name": "stderr",
     "output_type": "stream",
     "text": [
      "WARNING:absl:Found untraced functions such as _jit_compiled_convolution_op, _jit_compiled_convolution_op, _jit_compiled_convolution_op, _jit_compiled_convolution_op, _jit_compiled_convolution_op while saving (showing 5 of 6). These functions will not be directly callable after loading.\n"
     ]
    },
    {
     "name": "stdout",
     "output_type": "stream",
     "text": [
      "INFO:tensorflow:Assets written to: inception_model\\assets\n"
     ]
    },
    {
     "name": "stderr",
     "output_type": "stream",
     "text": [
      "INFO:tensorflow:Assets written to: inception_model\\assets\n"
     ]
    },
    {
     "name": "stdout",
     "output_type": "stream",
     "text": [
      "1018/1018 [==============================] - 2241s 2s/step - loss: 0.0613 - classification_output_loss: 0.0033 - linear_output_loss: 0.0580 - classification_output_accuracy: 0.9995 - linear_output_accuracy: 0.4525 - val_loss: 0.0532 - val_classification_output_loss: 0.0225 - val_linear_output_loss: 0.0307 - val_classification_output_accuracy: 0.9976 - val_linear_output_accuracy: 0.4718\n",
      "Epoch 8/30\n",
      "1018/1018 [==============================] - ETA: 0s - loss: 0.0579 - classification_output_loss: 0.0025 - linear_output_loss: 0.0554 - classification_output_accuracy: 0.9997 - linear_output_accuracy: 0.4541\n",
      "Epoch 8: saving model to inception_model\n"
     ]
    },
    {
     "name": "stderr",
     "output_type": "stream",
     "text": [
      "WARNING:absl:Found untraced functions such as _jit_compiled_convolution_op, _jit_compiled_convolution_op, _jit_compiled_convolution_op, _jit_compiled_convolution_op, _jit_compiled_convolution_op while saving (showing 5 of 6). These functions will not be directly callable after loading.\n"
     ]
    },
    {
     "name": "stdout",
     "output_type": "stream",
     "text": [
      "INFO:tensorflow:Assets written to: inception_model\\assets\n"
     ]
    },
    {
     "name": "stderr",
     "output_type": "stream",
     "text": [
      "INFO:tensorflow:Assets written to: inception_model\\assets\n"
     ]
    },
    {
     "name": "stdout",
     "output_type": "stream",
     "text": [
      "1018/1018 [==============================] - 2318s 2s/step - loss: 0.0579 - classification_output_loss: 0.0025 - linear_output_loss: 0.0554 - classification_output_accuracy: 0.9997 - linear_output_accuracy: 0.4541 - val_loss: 0.0592 - val_classification_output_loss: 0.0227 - val_linear_output_loss: 0.0365 - val_classification_output_accuracy: 0.9974 - val_linear_output_accuracy: 0.4680\n",
      "Epoch 9/30\n",
      "1018/1018 [==============================] - ETA: 0s - loss: 0.0578 - classification_output_loss: 0.0029 - linear_output_loss: 0.0549 - classification_output_accuracy: 0.9996 - linear_output_accuracy: 0.4545\n",
      "Epoch 9: saving model to inception_model\n"
     ]
    },
    {
     "name": "stderr",
     "output_type": "stream",
     "text": [
      "WARNING:absl:Found untraced functions such as _jit_compiled_convolution_op, _jit_compiled_convolution_op, _jit_compiled_convolution_op, _jit_compiled_convolution_op, _jit_compiled_convolution_op while saving (showing 5 of 6). These functions will not be directly callable after loading.\n"
     ]
    },
    {
     "name": "stdout",
     "output_type": "stream",
     "text": [
      "INFO:tensorflow:Assets written to: inception_model\\assets\n"
     ]
    },
    {
     "name": "stderr",
     "output_type": "stream",
     "text": [
      "INFO:tensorflow:Assets written to: inception_model\\assets\n"
     ]
    },
    {
     "name": "stdout",
     "output_type": "stream",
     "text": [
      "1018/1018 [==============================] - 2347s 2s/step - loss: 0.0578 - classification_output_loss: 0.0029 - linear_output_loss: 0.0549 - classification_output_accuracy: 0.9996 - linear_output_accuracy: 0.4545 - val_loss: 0.0622 - val_classification_output_loss: 0.0250 - val_linear_output_loss: 0.0372 - val_classification_output_accuracy: 0.9971 - val_linear_output_accuracy: 0.4702\n",
      "Epoch 9: early stopping\n"
     ]
    }
   ],
   "source": [
    "history_2 = model_2.fit(train_imgs,\n",
    "          epochs=30,\n",
    "          batch_size=32,\n",
    "          validation_data=val_imgs,\n",
    "          callbacks=[early_stop_2, checkpoint_2])"
   ]
  },
  {
   "cell_type": "code",
   "execution_count": 29,
   "metadata": {},
   "outputs": [
    {
     "name": "stdout",
     "output_type": "stream",
     "text": [
      "502/502 [==============================] - 144s 286ms/step - loss: 0.0622 - classification_output_loss: 0.0250 - linear_output_loss: 0.0372 - classification_output_accuracy: 0.9971 - linear_output_accuracy: 0.4702\n"
     ]
    },
    {
     "data": {
      "text/plain": [
       "[0.062217485159635544,\n",
       " 0.025026774033904076,\n",
       " 0.03719069063663483,\n",
       " 0.9971320033073425,\n",
       " 0.47022882103919983]"
      ]
     },
     "execution_count": 29,
     "metadata": {},
     "output_type": "execute_result"
    }
   ],
   "source": [
    "model_2.evaluate(val_imgs)"
   ]
  },
  {
   "cell_type": "code",
   "execution_count": 30,
   "metadata": {},
   "outputs": [],
   "source": [
    "model_2.save_weights('./checkpoints/model_2_weights.h5')"
   ]
  },
  {
   "cell_type": "code",
   "execution_count": null,
   "metadata": {},
   "outputs": [],
   "source": []
  }
 ],
 "metadata": {
  "kernelspec": {
   "display_name": "Python 3 (ipykernel)",
   "language": "python",
   "name": "python3"
  },
  "language_info": {
   "codemirror_mode": {
    "name": "ipython",
    "version": 3
   },
   "file_extension": ".py",
   "mimetype": "text/x-python",
   "name": "python",
   "nbconvert_exporter": "python",
   "pygments_lexer": "ipython3",
   "version": "3.11.3"
  }
 },
 "nbformat": 4,
 "nbformat_minor": 2
}
